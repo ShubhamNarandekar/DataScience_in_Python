{
 "cells": [
  {
   "cell_type": "markdown",
   "metadata": {},
   "source": [
    "<center><h2>Assignment 2<center>"
   ]
  },
  {
   "cell_type": "markdown",
   "metadata": {},
   "source": [
    "<div align = 'right' ><h5>Name = Shubham Narandekar</h5></div>\n",
    "<div align = 'right' ><h5>Student Id = 20200132</h5></div>"
   ]
  },
  {
   "cell_type": "code",
   "execution_count": 110,
   "metadata": {},
   "outputs": [],
   "source": [
    "from bs4 import BeautifulSoup\n",
    "from urllib.request import urlopen\n",
    "import string\n",
    "from nltk.corpus import stopwords, wordnet\n",
    "import nltk\n",
    "from nltk.stem import WordNetLemmatizer\n",
    "from collections import Counter\n",
    "from nltk.tokenize import word_tokenize\n",
    "import re\n",
    "from sklearn.feature_extraction.text import TfidfVectorizer, CountVectorizer\n",
    "from sklearn import model_selection, preprocessing, metrics\n",
    "from sklearn.linear_model import LogisticRegression, SGDClassifier\n",
    "from sklearn.naive_bayes import MultinomialNB\n",
    "from sklearn.svm import LinearSVC\n",
    "import seaborn as sns\n",
    "import matplotlib.pyplot as plt\n",
    "import pandas as pd\n",
    "pd.options.mode.chained_assignment = None\n",
    "#Uncomment only when running for the first time to download\n",
    "#nltk.download('wordnet')\n",
    "#nltk.download('stopwords')"
   ]
  },
  {
   "cell_type": "markdown",
   "metadata": {},
   "source": [
    "## Task 1 - Data Collection"
   ]
  },
  {
   "cell_type": "code",
   "execution_count": 2,
   "metadata": {},
   "outputs": [],
   "source": [
    "html = urlopen('http://mlg.ucd.ie/modules/COMP41680/assignment2/index.html')"
   ]
  },
  {
   "cell_type": "code",
   "execution_count": 3,
   "metadata": {},
   "outputs": [],
   "source": [
    "page = BeautifulSoup(html,'html.parser')\n",
    "page = page.find('div', class_='list-group')"
   ]
  },
  {
   "cell_type": "code",
   "execution_count": 4,
   "metadata": {},
   "outputs": [
    {
     "data": {
      "text/plain": [
       "['month-jan-001.html',\n",
       " 'month-feb-001.html',\n",
       " 'month-mar-001.html',\n",
       " 'month-apr-001.html',\n",
       " 'month-may-001.html',\n",
       " 'month-jun-001.html',\n",
       " 'month-jul-001.html',\n",
       " 'month-aug-001.html',\n",
       " 'month-sep-001.html',\n",
       " 'month-oct-001.html',\n",
       " 'month-nov-001.html',\n",
       " 'month-dec-001.html']"
      ]
     },
     "execution_count": 4,
     "metadata": {},
     "output_type": "execute_result"
    }
   ],
   "source": [
    "#Getting the urls for the first page of each month\n",
    "months = []\n",
    "for a in page.find_all('a', href=True):\n",
    "    months.append(a['href'])\n",
    "months"
   ]
  },
  {
   "cell_type": "markdown",
   "metadata": {},
   "source": [
    "The urls displayed above are for all the months. Each month has several pages in it. So I am defining a function that gathers url for each and every page of each months and return the list of urls."
   ]
  },
  {
   "cell_type": "code",
   "execution_count": 5,
   "metadata": {},
   "outputs": [],
   "source": [
    "def get_urls(months):\n",
    "    urls = []\n",
    "    for m in months:\n",
    "        req = urlopen('http://mlg.ucd.ie/modules/COMP41680/assignment2/'+m)\n",
    "        soup = BeautifulSoup(req, 'lxml')\n",
    "        pages = soup.find('h4').text[-2:]\n",
    "        for n in range(1,int(pages)+1):\n",
    "            urls.append('http://mlg.ucd.ie/modules/COMP41680/assignment2/'+m[:-8]+ str(n).rjust(3,'0')+'.html')\n",
    "    return urls"
   ]
  },
  {
   "cell_type": "markdown",
   "metadata": {},
   "source": [
    "After getting the list of urls for every page of each month I am iterating thorugh the urls to get the list of articles present on that page."
   ]
  },
  {
   "cell_type": "code",
   "execution_count": 7,
   "metadata": {},
   "outputs": [],
   "source": [
    "def get_articles(urls):\n",
    "    data1 = pd.DataFrame(columns=['Title','Snippet','Category'])\n",
    "    articles = []\n",
    "    for url in urls:\n",
    "        req = urlopen(url)\n",
    "        while req.status != 200:\n",
    "            req = urlopen(url)\n",
    "        soup = BeautifulSoup(req, 'html.parser')\n",
    "        art = soup.find_all('div', class_='article')\n",
    "        data1 = data(art,data1)\n",
    "        print('Gathering data from :',url)\n",
    "    return data1"
   ]
  },
  {
   "cell_type": "markdown",
   "metadata": {},
   "source": [
    "From the list of articles of each page I am then collecting the data and storing it in a dataframe using the following function."
   ]
  },
  {
   "cell_type": "code",
   "execution_count": 8,
   "metadata": {},
   "outputs": [],
   "source": [
    "def data(articles, df):    \n",
    "    for a in articles:\n",
    "        title = a.find('h5')\n",
    "        t = {'Title':title.find('a').text,\n",
    "             'Snippet':a.find('p', attrs={'class':'snippet'}).text.replace('Summary: ',''),\n",
    "             'Category':a.find_all('p', class_='metadata')[1].text.replace('Category: ','')}\n",
    "        df = df.append(t,ignore_index=True)\n",
    "    return df"
   ]
  },
  {
   "cell_type": "code",
   "execution_count": 9,
   "metadata": {},
   "outputs": [
    {
     "name": "stdout",
     "output_type": "stream",
     "text": [
      "Gathering data from : http://mlg.ucd.ie/modules/COMP41680/assignment2/month-jan-001.html\n",
      "Gathering data from : http://mlg.ucd.ie/modules/COMP41680/assignment2/month-jan-002.html\n",
      "Gathering data from : http://mlg.ucd.ie/modules/COMP41680/assignment2/month-jan-003.html\n",
      "Gathering data from : http://mlg.ucd.ie/modules/COMP41680/assignment2/month-jan-004.html\n",
      "Gathering data from : http://mlg.ucd.ie/modules/COMP41680/assignment2/month-jan-005.html\n",
      "Gathering data from : http://mlg.ucd.ie/modules/COMP41680/assignment2/month-jan-006.html\n",
      "Gathering data from : http://mlg.ucd.ie/modules/COMP41680/assignment2/month-jan-007.html\n",
      "Gathering data from : http://mlg.ucd.ie/modules/COMP41680/assignment2/month-jan-008.html\n",
      "Gathering data from : http://mlg.ucd.ie/modules/COMP41680/assignment2/month-jan-009.html\n",
      "Gathering data from : http://mlg.ucd.ie/modules/COMP41680/assignment2/month-jan-010.html\n",
      "Gathering data from : http://mlg.ucd.ie/modules/COMP41680/assignment2/month-jan-011.html\n",
      "Gathering data from : http://mlg.ucd.ie/modules/COMP41680/assignment2/month-jan-012.html\n",
      "Gathering data from : http://mlg.ucd.ie/modules/COMP41680/assignment2/month-jan-013.html\n",
      "Gathering data from : http://mlg.ucd.ie/modules/COMP41680/assignment2/month-jan-014.html\n",
      "Gathering data from : http://mlg.ucd.ie/modules/COMP41680/assignment2/month-jan-015.html\n",
      "Gathering data from : http://mlg.ucd.ie/modules/COMP41680/assignment2/month-jan-016.html\n",
      "Gathering data from : http://mlg.ucd.ie/modules/COMP41680/assignment2/month-jan-017.html\n",
      "Gathering data from : http://mlg.ucd.ie/modules/COMP41680/assignment2/month-jan-018.html\n",
      "Gathering data from : http://mlg.ucd.ie/modules/COMP41680/assignment2/month-jan-019.html\n",
      "Gathering data from : http://mlg.ucd.ie/modules/COMP41680/assignment2/month-jan-020.html\n",
      "Gathering data from : http://mlg.ucd.ie/modules/COMP41680/assignment2/month-jan-021.html\n",
      "Gathering data from : http://mlg.ucd.ie/modules/COMP41680/assignment2/month-jan-022.html\n",
      "Gathering data from : http://mlg.ucd.ie/modules/COMP41680/assignment2/month-jan-023.html\n",
      "Gathering data from : http://mlg.ucd.ie/modules/COMP41680/assignment2/month-jan-024.html\n",
      "Gathering data from : http://mlg.ucd.ie/modules/COMP41680/assignment2/month-jan-025.html\n",
      "Gathering data from : http://mlg.ucd.ie/modules/COMP41680/assignment2/month-jan-026.html\n",
      "Gathering data from : http://mlg.ucd.ie/modules/COMP41680/assignment2/month-jan-027.html\n",
      "Gathering data from : http://mlg.ucd.ie/modules/COMP41680/assignment2/month-jan-028.html\n",
      "Gathering data from : http://mlg.ucd.ie/modules/COMP41680/assignment2/month-jan-029.html\n",
      "Gathering data from : http://mlg.ucd.ie/modules/COMP41680/assignment2/month-jan-030.html\n",
      "Gathering data from : http://mlg.ucd.ie/modules/COMP41680/assignment2/month-jan-031.html\n",
      "Gathering data from : http://mlg.ucd.ie/modules/COMP41680/assignment2/month-feb-001.html\n",
      "Gathering data from : http://mlg.ucd.ie/modules/COMP41680/assignment2/month-feb-002.html\n",
      "Gathering data from : http://mlg.ucd.ie/modules/COMP41680/assignment2/month-feb-003.html\n",
      "Gathering data from : http://mlg.ucd.ie/modules/COMP41680/assignment2/month-feb-004.html\n",
      "Gathering data from : http://mlg.ucd.ie/modules/COMP41680/assignment2/month-feb-005.html\n",
      "Gathering data from : http://mlg.ucd.ie/modules/COMP41680/assignment2/month-feb-006.html\n",
      "Gathering data from : http://mlg.ucd.ie/modules/COMP41680/assignment2/month-feb-007.html\n",
      "Gathering data from : http://mlg.ucd.ie/modules/COMP41680/assignment2/month-feb-008.html\n",
      "Gathering data from : http://mlg.ucd.ie/modules/COMP41680/assignment2/month-feb-009.html\n",
      "Gathering data from : http://mlg.ucd.ie/modules/COMP41680/assignment2/month-feb-010.html\n",
      "Gathering data from : http://mlg.ucd.ie/modules/COMP41680/assignment2/month-feb-011.html\n",
      "Gathering data from : http://mlg.ucd.ie/modules/COMP41680/assignment2/month-feb-012.html\n",
      "Gathering data from : http://mlg.ucd.ie/modules/COMP41680/assignment2/month-feb-013.html\n",
      "Gathering data from : http://mlg.ucd.ie/modules/COMP41680/assignment2/month-feb-014.html\n",
      "Gathering data from : http://mlg.ucd.ie/modules/COMP41680/assignment2/month-feb-015.html\n",
      "Gathering data from : http://mlg.ucd.ie/modules/COMP41680/assignment2/month-feb-016.html\n",
      "Gathering data from : http://mlg.ucd.ie/modules/COMP41680/assignment2/month-feb-017.html\n",
      "Gathering data from : http://mlg.ucd.ie/modules/COMP41680/assignment2/month-feb-018.html\n",
      "Gathering data from : http://mlg.ucd.ie/modules/COMP41680/assignment2/month-feb-019.html\n",
      "Gathering data from : http://mlg.ucd.ie/modules/COMP41680/assignment2/month-feb-020.html\n",
      "Gathering data from : http://mlg.ucd.ie/modules/COMP41680/assignment2/month-feb-021.html\n",
      "Gathering data from : http://mlg.ucd.ie/modules/COMP41680/assignment2/month-feb-022.html\n",
      "Gathering data from : http://mlg.ucd.ie/modules/COMP41680/assignment2/month-feb-023.html\n",
      "Gathering data from : http://mlg.ucd.ie/modules/COMP41680/assignment2/month-feb-024.html\n",
      "Gathering data from : http://mlg.ucd.ie/modules/COMP41680/assignment2/month-feb-025.html\n",
      "Gathering data from : http://mlg.ucd.ie/modules/COMP41680/assignment2/month-feb-026.html\n",
      "Gathering data from : http://mlg.ucd.ie/modules/COMP41680/assignment2/month-feb-027.html\n",
      "Gathering data from : http://mlg.ucd.ie/modules/COMP41680/assignment2/month-feb-028.html\n",
      "Gathering data from : http://mlg.ucd.ie/modules/COMP41680/assignment2/month-feb-029.html\n",
      "Gathering data from : http://mlg.ucd.ie/modules/COMP41680/assignment2/month-feb-030.html\n",
      "Gathering data from : http://mlg.ucd.ie/modules/COMP41680/assignment2/month-mar-001.html\n",
      "Gathering data from : http://mlg.ucd.ie/modules/COMP41680/assignment2/month-mar-002.html\n",
      "Gathering data from : http://mlg.ucd.ie/modules/COMP41680/assignment2/month-mar-003.html\n",
      "Gathering data from : http://mlg.ucd.ie/modules/COMP41680/assignment2/month-mar-004.html\n",
      "Gathering data from : http://mlg.ucd.ie/modules/COMP41680/assignment2/month-mar-005.html\n",
      "Gathering data from : http://mlg.ucd.ie/modules/COMP41680/assignment2/month-mar-006.html\n",
      "Gathering data from : http://mlg.ucd.ie/modules/COMP41680/assignment2/month-mar-007.html\n",
      "Gathering data from : http://mlg.ucd.ie/modules/COMP41680/assignment2/month-mar-008.html\n",
      "Gathering data from : http://mlg.ucd.ie/modules/COMP41680/assignment2/month-mar-009.html\n",
      "Gathering data from : http://mlg.ucd.ie/modules/COMP41680/assignment2/month-mar-010.html\n",
      "Gathering data from : http://mlg.ucd.ie/modules/COMP41680/assignment2/month-mar-011.html\n",
      "Gathering data from : http://mlg.ucd.ie/modules/COMP41680/assignment2/month-mar-012.html\n",
      "Gathering data from : http://mlg.ucd.ie/modules/COMP41680/assignment2/month-mar-013.html\n",
      "Gathering data from : http://mlg.ucd.ie/modules/COMP41680/assignment2/month-mar-014.html\n",
      "Gathering data from : http://mlg.ucd.ie/modules/COMP41680/assignment2/month-mar-015.html\n",
      "Gathering data from : http://mlg.ucd.ie/modules/COMP41680/assignment2/month-mar-016.html\n",
      "Gathering data from : http://mlg.ucd.ie/modules/COMP41680/assignment2/month-mar-017.html\n",
      "Gathering data from : http://mlg.ucd.ie/modules/COMP41680/assignment2/month-mar-018.html\n",
      "Gathering data from : http://mlg.ucd.ie/modules/COMP41680/assignment2/month-mar-019.html\n",
      "Gathering data from : http://mlg.ucd.ie/modules/COMP41680/assignment2/month-mar-020.html\n",
      "Gathering data from : http://mlg.ucd.ie/modules/COMP41680/assignment2/month-mar-021.html\n",
      "Gathering data from : http://mlg.ucd.ie/modules/COMP41680/assignment2/month-mar-022.html\n",
      "Gathering data from : http://mlg.ucd.ie/modules/COMP41680/assignment2/month-mar-023.html\n",
      "Gathering data from : http://mlg.ucd.ie/modules/COMP41680/assignment2/month-mar-024.html\n",
      "Gathering data from : http://mlg.ucd.ie/modules/COMP41680/assignment2/month-mar-025.html\n",
      "Gathering data from : http://mlg.ucd.ie/modules/COMP41680/assignment2/month-mar-026.html\n",
      "Gathering data from : http://mlg.ucd.ie/modules/COMP41680/assignment2/month-mar-027.html\n",
      "Gathering data from : http://mlg.ucd.ie/modules/COMP41680/assignment2/month-mar-028.html\n",
      "Gathering data from : http://mlg.ucd.ie/modules/COMP41680/assignment2/month-apr-001.html\n",
      "Gathering data from : http://mlg.ucd.ie/modules/COMP41680/assignment2/month-apr-002.html\n",
      "Gathering data from : http://mlg.ucd.ie/modules/COMP41680/assignment2/month-apr-003.html\n",
      "Gathering data from : http://mlg.ucd.ie/modules/COMP41680/assignment2/month-apr-004.html\n",
      "Gathering data from : http://mlg.ucd.ie/modules/COMP41680/assignment2/month-apr-005.html\n",
      "Gathering data from : http://mlg.ucd.ie/modules/COMP41680/assignment2/month-apr-006.html\n",
      "Gathering data from : http://mlg.ucd.ie/modules/COMP41680/assignment2/month-apr-007.html\n",
      "Gathering data from : http://mlg.ucd.ie/modules/COMP41680/assignment2/month-apr-008.html\n",
      "Gathering data from : http://mlg.ucd.ie/modules/COMP41680/assignment2/month-apr-009.html\n",
      "Gathering data from : http://mlg.ucd.ie/modules/COMP41680/assignment2/month-apr-010.html\n",
      "Gathering data from : http://mlg.ucd.ie/modules/COMP41680/assignment2/month-apr-011.html\n",
      "Gathering data from : http://mlg.ucd.ie/modules/COMP41680/assignment2/month-apr-012.html\n",
      "Gathering data from : http://mlg.ucd.ie/modules/COMP41680/assignment2/month-apr-013.html\n",
      "Gathering data from : http://mlg.ucd.ie/modules/COMP41680/assignment2/month-apr-014.html\n",
      "Gathering data from : http://mlg.ucd.ie/modules/COMP41680/assignment2/month-apr-015.html\n",
      "Gathering data from : http://mlg.ucd.ie/modules/COMP41680/assignment2/month-apr-016.html\n",
      "Gathering data from : http://mlg.ucd.ie/modules/COMP41680/assignment2/month-apr-017.html\n",
      "Gathering data from : http://mlg.ucd.ie/modules/COMP41680/assignment2/month-apr-018.html\n",
      "Gathering data from : http://mlg.ucd.ie/modules/COMP41680/assignment2/month-apr-019.html\n",
      "Gathering data from : http://mlg.ucd.ie/modules/COMP41680/assignment2/month-apr-020.html\n",
      "Gathering data from : http://mlg.ucd.ie/modules/COMP41680/assignment2/month-apr-021.html\n",
      "Gathering data from : http://mlg.ucd.ie/modules/COMP41680/assignment2/month-apr-022.html\n",
      "Gathering data from : http://mlg.ucd.ie/modules/COMP41680/assignment2/month-apr-023.html\n",
      "Gathering data from : http://mlg.ucd.ie/modules/COMP41680/assignment2/month-apr-024.html\n",
      "Gathering data from : http://mlg.ucd.ie/modules/COMP41680/assignment2/month-apr-025.html\n",
      "Gathering data from : http://mlg.ucd.ie/modules/COMP41680/assignment2/month-may-001.html\n",
      "Gathering data from : http://mlg.ucd.ie/modules/COMP41680/assignment2/month-may-002.html\n",
      "Gathering data from : http://mlg.ucd.ie/modules/COMP41680/assignment2/month-may-003.html\n",
      "Gathering data from : http://mlg.ucd.ie/modules/COMP41680/assignment2/month-may-004.html\n",
      "Gathering data from : http://mlg.ucd.ie/modules/COMP41680/assignment2/month-may-005.html\n",
      "Gathering data from : http://mlg.ucd.ie/modules/COMP41680/assignment2/month-may-006.html\n",
      "Gathering data from : http://mlg.ucd.ie/modules/COMP41680/assignment2/month-may-007.html\n",
      "Gathering data from : http://mlg.ucd.ie/modules/COMP41680/assignment2/month-may-008.html\n",
      "Gathering data from : http://mlg.ucd.ie/modules/COMP41680/assignment2/month-may-009.html\n",
      "Gathering data from : http://mlg.ucd.ie/modules/COMP41680/assignment2/month-may-010.html\n",
      "Gathering data from : http://mlg.ucd.ie/modules/COMP41680/assignment2/month-may-011.html\n",
      "Gathering data from : http://mlg.ucd.ie/modules/COMP41680/assignment2/month-may-012.html\n",
      "Gathering data from : http://mlg.ucd.ie/modules/COMP41680/assignment2/month-may-013.html\n",
      "Gathering data from : http://mlg.ucd.ie/modules/COMP41680/assignment2/month-may-014.html\n",
      "Gathering data from : http://mlg.ucd.ie/modules/COMP41680/assignment2/month-may-015.html\n",
      "Gathering data from : http://mlg.ucd.ie/modules/COMP41680/assignment2/month-may-016.html\n",
      "Gathering data from : http://mlg.ucd.ie/modules/COMP41680/assignment2/month-may-017.html\n",
      "Gathering data from : http://mlg.ucd.ie/modules/COMP41680/assignment2/month-may-018.html\n",
      "Gathering data from : http://mlg.ucd.ie/modules/COMP41680/assignment2/month-may-019.html\n",
      "Gathering data from : http://mlg.ucd.ie/modules/COMP41680/assignment2/month-may-020.html\n",
      "Gathering data from : http://mlg.ucd.ie/modules/COMP41680/assignment2/month-may-021.html\n",
      "Gathering data from : http://mlg.ucd.ie/modules/COMP41680/assignment2/month-may-022.html\n",
      "Gathering data from : http://mlg.ucd.ie/modules/COMP41680/assignment2/month-may-023.html\n",
      "Gathering data from : http://mlg.ucd.ie/modules/COMP41680/assignment2/month-may-024.html\n",
      "Gathering data from : http://mlg.ucd.ie/modules/COMP41680/assignment2/month-may-025.html\n",
      "Gathering data from : http://mlg.ucd.ie/modules/COMP41680/assignment2/month-may-026.html\n",
      "Gathering data from : http://mlg.ucd.ie/modules/COMP41680/assignment2/month-may-027.html\n",
      "Gathering data from : http://mlg.ucd.ie/modules/COMP41680/assignment2/month-jun-001.html\n",
      "Gathering data from : http://mlg.ucd.ie/modules/COMP41680/assignment2/month-jun-002.html\n",
      "Gathering data from : http://mlg.ucd.ie/modules/COMP41680/assignment2/month-jun-003.html\n",
      "Gathering data from : http://mlg.ucd.ie/modules/COMP41680/assignment2/month-jun-004.html\n",
      "Gathering data from : http://mlg.ucd.ie/modules/COMP41680/assignment2/month-jun-005.html\n",
      "Gathering data from : http://mlg.ucd.ie/modules/COMP41680/assignment2/month-jun-006.html\n",
      "Gathering data from : http://mlg.ucd.ie/modules/COMP41680/assignment2/month-jun-007.html\n",
      "Gathering data from : http://mlg.ucd.ie/modules/COMP41680/assignment2/month-jun-008.html\n",
      "Gathering data from : http://mlg.ucd.ie/modules/COMP41680/assignment2/month-jun-009.html\n",
      "Gathering data from : http://mlg.ucd.ie/modules/COMP41680/assignment2/month-jun-010.html\n",
      "Gathering data from : http://mlg.ucd.ie/modules/COMP41680/assignment2/month-jun-011.html\n",
      "Gathering data from : http://mlg.ucd.ie/modules/COMP41680/assignment2/month-jun-012.html\n",
      "Gathering data from : http://mlg.ucd.ie/modules/COMP41680/assignment2/month-jun-013.html\n",
      "Gathering data from : http://mlg.ucd.ie/modules/COMP41680/assignment2/month-jun-014.html\n",
      "Gathering data from : http://mlg.ucd.ie/modules/COMP41680/assignment2/month-jun-015.html\n",
      "Gathering data from : http://mlg.ucd.ie/modules/COMP41680/assignment2/month-jun-016.html\n",
      "Gathering data from : http://mlg.ucd.ie/modules/COMP41680/assignment2/month-jun-017.html\n",
      "Gathering data from : http://mlg.ucd.ie/modules/COMP41680/assignment2/month-jun-018.html\n",
      "Gathering data from : http://mlg.ucd.ie/modules/COMP41680/assignment2/month-jun-019.html\n",
      "Gathering data from : http://mlg.ucd.ie/modules/COMP41680/assignment2/month-jun-020.html\n",
      "Gathering data from : http://mlg.ucd.ie/modules/COMP41680/assignment2/month-jun-021.html\n",
      "Gathering data from : http://mlg.ucd.ie/modules/COMP41680/assignment2/month-jun-022.html\n",
      "Gathering data from : http://mlg.ucd.ie/modules/COMP41680/assignment2/month-jun-023.html\n",
      "Gathering data from : http://mlg.ucd.ie/modules/COMP41680/assignment2/month-jun-024.html\n",
      "Gathering data from : http://mlg.ucd.ie/modules/COMP41680/assignment2/month-jun-025.html\n",
      "Gathering data from : http://mlg.ucd.ie/modules/COMP41680/assignment2/month-jun-026.html\n",
      "Gathering data from : http://mlg.ucd.ie/modules/COMP41680/assignment2/month-jun-027.html\n",
      "Gathering data from : http://mlg.ucd.ie/modules/COMP41680/assignment2/month-jun-028.html\n",
      "Gathering data from : http://mlg.ucd.ie/modules/COMP41680/assignment2/month-jul-001.html\n",
      "Gathering data from : http://mlg.ucd.ie/modules/COMP41680/assignment2/month-jul-002.html\n",
      "Gathering data from : http://mlg.ucd.ie/modules/COMP41680/assignment2/month-jul-003.html\n",
      "Gathering data from : http://mlg.ucd.ie/modules/COMP41680/assignment2/month-jul-004.html\n",
      "Gathering data from : http://mlg.ucd.ie/modules/COMP41680/assignment2/month-jul-005.html\n",
      "Gathering data from : http://mlg.ucd.ie/modules/COMP41680/assignment2/month-jul-006.html\n",
      "Gathering data from : http://mlg.ucd.ie/modules/COMP41680/assignment2/month-jul-007.html\n",
      "Gathering data from : http://mlg.ucd.ie/modules/COMP41680/assignment2/month-jul-008.html\n",
      "Gathering data from : http://mlg.ucd.ie/modules/COMP41680/assignment2/month-jul-009.html\n",
      "Gathering data from : http://mlg.ucd.ie/modules/COMP41680/assignment2/month-jul-010.html\n",
      "Gathering data from : http://mlg.ucd.ie/modules/COMP41680/assignment2/month-jul-011.html\n",
      "Gathering data from : http://mlg.ucd.ie/modules/COMP41680/assignment2/month-jul-012.html\n",
      "Gathering data from : http://mlg.ucd.ie/modules/COMP41680/assignment2/month-jul-013.html\n",
      "Gathering data from : http://mlg.ucd.ie/modules/COMP41680/assignment2/month-jul-014.html\n",
      "Gathering data from : http://mlg.ucd.ie/modules/COMP41680/assignment2/month-jul-015.html\n",
      "Gathering data from : http://mlg.ucd.ie/modules/COMP41680/assignment2/month-jul-016.html\n",
      "Gathering data from : http://mlg.ucd.ie/modules/COMP41680/assignment2/month-jul-017.html\n",
      "Gathering data from : http://mlg.ucd.ie/modules/COMP41680/assignment2/month-jul-018.html\n",
      "Gathering data from : http://mlg.ucd.ie/modules/COMP41680/assignment2/month-jul-019.html\n",
      "Gathering data from : http://mlg.ucd.ie/modules/COMP41680/assignment2/month-jul-020.html\n",
      "Gathering data from : http://mlg.ucd.ie/modules/COMP41680/assignment2/month-jul-021.html\n",
      "Gathering data from : http://mlg.ucd.ie/modules/COMP41680/assignment2/month-jul-022.html\n",
      "Gathering data from : http://mlg.ucd.ie/modules/COMP41680/assignment2/month-jul-023.html\n",
      "Gathering data from : http://mlg.ucd.ie/modules/COMP41680/assignment2/month-jul-024.html\n",
      "Gathering data from : http://mlg.ucd.ie/modules/COMP41680/assignment2/month-jul-025.html\n",
      "Gathering data from : http://mlg.ucd.ie/modules/COMP41680/assignment2/month-jul-026.html\n",
      "Gathering data from : http://mlg.ucd.ie/modules/COMP41680/assignment2/month-jul-027.html\n",
      "Gathering data from : http://mlg.ucd.ie/modules/COMP41680/assignment2/month-jul-028.html\n",
      "Gathering data from : http://mlg.ucd.ie/modules/COMP41680/assignment2/month-aug-001.html\n",
      "Gathering data from : http://mlg.ucd.ie/modules/COMP41680/assignment2/month-aug-002.html\n",
      "Gathering data from : http://mlg.ucd.ie/modules/COMP41680/assignment2/month-aug-003.html\n",
      "Gathering data from : http://mlg.ucd.ie/modules/COMP41680/assignment2/month-aug-004.html\n",
      "Gathering data from : http://mlg.ucd.ie/modules/COMP41680/assignment2/month-aug-005.html\n",
      "Gathering data from : http://mlg.ucd.ie/modules/COMP41680/assignment2/month-aug-006.html\n",
      "Gathering data from : http://mlg.ucd.ie/modules/COMP41680/assignment2/month-aug-007.html\n",
      "Gathering data from : http://mlg.ucd.ie/modules/COMP41680/assignment2/month-aug-008.html\n",
      "Gathering data from : http://mlg.ucd.ie/modules/COMP41680/assignment2/month-aug-009.html\n",
      "Gathering data from : http://mlg.ucd.ie/modules/COMP41680/assignment2/month-aug-010.html\n",
      "Gathering data from : http://mlg.ucd.ie/modules/COMP41680/assignment2/month-aug-011.html\n",
      "Gathering data from : http://mlg.ucd.ie/modules/COMP41680/assignment2/month-aug-012.html\n",
      "Gathering data from : http://mlg.ucd.ie/modules/COMP41680/assignment2/month-aug-013.html\n",
      "Gathering data from : http://mlg.ucd.ie/modules/COMP41680/assignment2/month-aug-014.html\n",
      "Gathering data from : http://mlg.ucd.ie/modules/COMP41680/assignment2/month-aug-015.html\n",
      "Gathering data from : http://mlg.ucd.ie/modules/COMP41680/assignment2/month-aug-016.html\n",
      "Gathering data from : http://mlg.ucd.ie/modules/COMP41680/assignment2/month-aug-017.html\n",
      "Gathering data from : http://mlg.ucd.ie/modules/COMP41680/assignment2/month-aug-018.html\n",
      "Gathering data from : http://mlg.ucd.ie/modules/COMP41680/assignment2/month-aug-019.html\n",
      "Gathering data from : http://mlg.ucd.ie/modules/COMP41680/assignment2/month-aug-020.html\n",
      "Gathering data from : http://mlg.ucd.ie/modules/COMP41680/assignment2/month-aug-021.html\n",
      "Gathering data from : http://mlg.ucd.ie/modules/COMP41680/assignment2/month-aug-022.html\n",
      "Gathering data from : http://mlg.ucd.ie/modules/COMP41680/assignment2/month-aug-023.html\n",
      "Gathering data from : http://mlg.ucd.ie/modules/COMP41680/assignment2/month-aug-024.html\n",
      "Gathering data from : http://mlg.ucd.ie/modules/COMP41680/assignment2/month-aug-025.html\n",
      "Gathering data from : http://mlg.ucd.ie/modules/COMP41680/assignment2/month-aug-026.html\n",
      "Gathering data from : http://mlg.ucd.ie/modules/COMP41680/assignment2/month-sep-001.html\n",
      "Gathering data from : http://mlg.ucd.ie/modules/COMP41680/assignment2/month-sep-002.html\n",
      "Gathering data from : http://mlg.ucd.ie/modules/COMP41680/assignment2/month-sep-003.html\n",
      "Gathering data from : http://mlg.ucd.ie/modules/COMP41680/assignment2/month-sep-004.html\n",
      "Gathering data from : http://mlg.ucd.ie/modules/COMP41680/assignment2/month-sep-005.html\n",
      "Gathering data from : http://mlg.ucd.ie/modules/COMP41680/assignment2/month-sep-006.html\n",
      "Gathering data from : http://mlg.ucd.ie/modules/COMP41680/assignment2/month-sep-007.html\n",
      "Gathering data from : http://mlg.ucd.ie/modules/COMP41680/assignment2/month-sep-008.html\n",
      "Gathering data from : http://mlg.ucd.ie/modules/COMP41680/assignment2/month-sep-009.html\n",
      "Gathering data from : http://mlg.ucd.ie/modules/COMP41680/assignment2/month-sep-010.html\n",
      "Gathering data from : http://mlg.ucd.ie/modules/COMP41680/assignment2/month-sep-011.html\n",
      "Gathering data from : http://mlg.ucd.ie/modules/COMP41680/assignment2/month-sep-012.html\n",
      "Gathering data from : http://mlg.ucd.ie/modules/COMP41680/assignment2/month-sep-013.html\n",
      "Gathering data from : http://mlg.ucd.ie/modules/COMP41680/assignment2/month-sep-014.html\n",
      "Gathering data from : http://mlg.ucd.ie/modules/COMP41680/assignment2/month-sep-015.html\n",
      "Gathering data from : http://mlg.ucd.ie/modules/COMP41680/assignment2/month-sep-016.html\n",
      "Gathering data from : http://mlg.ucd.ie/modules/COMP41680/assignment2/month-sep-017.html\n",
      "Gathering data from : http://mlg.ucd.ie/modules/COMP41680/assignment2/month-sep-018.html\n",
      "Gathering data from : http://mlg.ucd.ie/modules/COMP41680/assignment2/month-sep-019.html\n",
      "Gathering data from : http://mlg.ucd.ie/modules/COMP41680/assignment2/month-sep-020.html\n",
      "Gathering data from : http://mlg.ucd.ie/modules/COMP41680/assignment2/month-sep-021.html\n",
      "Gathering data from : http://mlg.ucd.ie/modules/COMP41680/assignment2/month-sep-022.html\n",
      "Gathering data from : http://mlg.ucd.ie/modules/COMP41680/assignment2/month-sep-023.html\n",
      "Gathering data from : http://mlg.ucd.ie/modules/COMP41680/assignment2/month-sep-024.html\n",
      "Gathering data from : http://mlg.ucd.ie/modules/COMP41680/assignment2/month-sep-025.html\n",
      "Gathering data from : http://mlg.ucd.ie/modules/COMP41680/assignment2/month-sep-026.html\n",
      "Gathering data from : http://mlg.ucd.ie/modules/COMP41680/assignment2/month-sep-027.html\n",
      "Gathering data from : http://mlg.ucd.ie/modules/COMP41680/assignment2/month-oct-001.html\n",
      "Gathering data from : http://mlg.ucd.ie/modules/COMP41680/assignment2/month-oct-002.html\n",
      "Gathering data from : http://mlg.ucd.ie/modules/COMP41680/assignment2/month-oct-003.html\n",
      "Gathering data from : http://mlg.ucd.ie/modules/COMP41680/assignment2/month-oct-004.html\n",
      "Gathering data from : http://mlg.ucd.ie/modules/COMP41680/assignment2/month-oct-005.html\n",
      "Gathering data from : http://mlg.ucd.ie/modules/COMP41680/assignment2/month-oct-006.html\n",
      "Gathering data from : http://mlg.ucd.ie/modules/COMP41680/assignment2/month-oct-007.html\n",
      "Gathering data from : http://mlg.ucd.ie/modules/COMP41680/assignment2/month-oct-008.html\n",
      "Gathering data from : http://mlg.ucd.ie/modules/COMP41680/assignment2/month-oct-009.html\n",
      "Gathering data from : http://mlg.ucd.ie/modules/COMP41680/assignment2/month-oct-010.html\n",
      "Gathering data from : http://mlg.ucd.ie/modules/COMP41680/assignment2/month-oct-011.html\n",
      "Gathering data from : http://mlg.ucd.ie/modules/COMP41680/assignment2/month-oct-012.html\n",
      "Gathering data from : http://mlg.ucd.ie/modules/COMP41680/assignment2/month-oct-013.html\n",
      "Gathering data from : http://mlg.ucd.ie/modules/COMP41680/assignment2/month-oct-014.html\n",
      "Gathering data from : http://mlg.ucd.ie/modules/COMP41680/assignment2/month-oct-015.html\n",
      "Gathering data from : http://mlg.ucd.ie/modules/COMP41680/assignment2/month-oct-016.html\n",
      "Gathering data from : http://mlg.ucd.ie/modules/COMP41680/assignment2/month-oct-017.html\n",
      "Gathering data from : http://mlg.ucd.ie/modules/COMP41680/assignment2/month-oct-018.html\n",
      "Gathering data from : http://mlg.ucd.ie/modules/COMP41680/assignment2/month-oct-019.html\n",
      "Gathering data from : http://mlg.ucd.ie/modules/COMP41680/assignment2/month-oct-020.html\n",
      "Gathering data from : http://mlg.ucd.ie/modules/COMP41680/assignment2/month-oct-021.html\n",
      "Gathering data from : http://mlg.ucd.ie/modules/COMP41680/assignment2/month-oct-022.html\n",
      "Gathering data from : http://mlg.ucd.ie/modules/COMP41680/assignment2/month-oct-023.html\n",
      "Gathering data from : http://mlg.ucd.ie/modules/COMP41680/assignment2/month-oct-024.html\n",
      "Gathering data from : http://mlg.ucd.ie/modules/COMP41680/assignment2/month-oct-025.html\n",
      "Gathering data from : http://mlg.ucd.ie/modules/COMP41680/assignment2/month-oct-026.html\n",
      "Gathering data from : http://mlg.ucd.ie/modules/COMP41680/assignment2/month-oct-027.html\n",
      "Gathering data from : http://mlg.ucd.ie/modules/COMP41680/assignment2/month-oct-028.html\n",
      "Gathering data from : http://mlg.ucd.ie/modules/COMP41680/assignment2/month-nov-001.html\n",
      "Gathering data from : http://mlg.ucd.ie/modules/COMP41680/assignment2/month-nov-002.html\n",
      "Gathering data from : http://mlg.ucd.ie/modules/COMP41680/assignment2/month-nov-003.html\n",
      "Gathering data from : http://mlg.ucd.ie/modules/COMP41680/assignment2/month-nov-004.html\n",
      "Gathering data from : http://mlg.ucd.ie/modules/COMP41680/assignment2/month-nov-005.html\n",
      "Gathering data from : http://mlg.ucd.ie/modules/COMP41680/assignment2/month-nov-006.html\n",
      "Gathering data from : http://mlg.ucd.ie/modules/COMP41680/assignment2/month-nov-007.html\n",
      "Gathering data from : http://mlg.ucd.ie/modules/COMP41680/assignment2/month-nov-008.html\n",
      "Gathering data from : http://mlg.ucd.ie/modules/COMP41680/assignment2/month-nov-009.html\n",
      "Gathering data from : http://mlg.ucd.ie/modules/COMP41680/assignment2/month-nov-010.html\n",
      "Gathering data from : http://mlg.ucd.ie/modules/COMP41680/assignment2/month-nov-011.html\n",
      "Gathering data from : http://mlg.ucd.ie/modules/COMP41680/assignment2/month-nov-012.html\n",
      "Gathering data from : http://mlg.ucd.ie/modules/COMP41680/assignment2/month-nov-013.html\n",
      "Gathering data from : http://mlg.ucd.ie/modules/COMP41680/assignment2/month-nov-014.html\n",
      "Gathering data from : http://mlg.ucd.ie/modules/COMP41680/assignment2/month-nov-015.html\n",
      "Gathering data from : http://mlg.ucd.ie/modules/COMP41680/assignment2/month-nov-016.html\n",
      "Gathering data from : http://mlg.ucd.ie/modules/COMP41680/assignment2/month-nov-017.html\n",
      "Gathering data from : http://mlg.ucd.ie/modules/COMP41680/assignment2/month-nov-018.html\n",
      "Gathering data from : http://mlg.ucd.ie/modules/COMP41680/assignment2/month-nov-019.html\n",
      "Gathering data from : http://mlg.ucd.ie/modules/COMP41680/assignment2/month-nov-020.html\n",
      "Gathering data from : http://mlg.ucd.ie/modules/COMP41680/assignment2/month-nov-021.html\n",
      "Gathering data from : http://mlg.ucd.ie/modules/COMP41680/assignment2/month-nov-022.html\n",
      "Gathering data from : http://mlg.ucd.ie/modules/COMP41680/assignment2/month-nov-023.html\n",
      "Gathering data from : http://mlg.ucd.ie/modules/COMP41680/assignment2/month-nov-024.html\n",
      "Gathering data from : http://mlg.ucd.ie/modules/COMP41680/assignment2/month-nov-025.html\n",
      "Gathering data from : http://mlg.ucd.ie/modules/COMP41680/assignment2/month-nov-026.html\n",
      "Gathering data from : http://mlg.ucd.ie/modules/COMP41680/assignment2/month-nov-027.html\n",
      "Gathering data from : http://mlg.ucd.ie/modules/COMP41680/assignment2/month-dec-001.html\n",
      "Gathering data from : http://mlg.ucd.ie/modules/COMP41680/assignment2/month-dec-002.html\n",
      "Gathering data from : http://mlg.ucd.ie/modules/COMP41680/assignment2/month-dec-003.html\n",
      "Gathering data from : http://mlg.ucd.ie/modules/COMP41680/assignment2/month-dec-004.html\n",
      "Gathering data from : http://mlg.ucd.ie/modules/COMP41680/assignment2/month-dec-005.html\n",
      "Gathering data from : http://mlg.ucd.ie/modules/COMP41680/assignment2/month-dec-006.html\n",
      "Gathering data from : http://mlg.ucd.ie/modules/COMP41680/assignment2/month-dec-007.html\n",
      "Gathering data from : http://mlg.ucd.ie/modules/COMP41680/assignment2/month-dec-008.html\n",
      "Gathering data from : http://mlg.ucd.ie/modules/COMP41680/assignment2/month-dec-009.html\n",
      "Gathering data from : http://mlg.ucd.ie/modules/COMP41680/assignment2/month-dec-010.html\n",
      "Gathering data from : http://mlg.ucd.ie/modules/COMP41680/assignment2/month-dec-011.html\n",
      "Gathering data from : http://mlg.ucd.ie/modules/COMP41680/assignment2/month-dec-012.html\n",
      "Gathering data from : http://mlg.ucd.ie/modules/COMP41680/assignment2/month-dec-013.html\n",
      "Gathering data from : http://mlg.ucd.ie/modules/COMP41680/assignment2/month-dec-014.html\n",
      "Gathering data from : http://mlg.ucd.ie/modules/COMP41680/assignment2/month-dec-015.html\n",
      "Gathering data from : http://mlg.ucd.ie/modules/COMP41680/assignment2/month-dec-016.html\n",
      "Gathering data from : http://mlg.ucd.ie/modules/COMP41680/assignment2/month-dec-017.html\n",
      "Gathering data from : http://mlg.ucd.ie/modules/COMP41680/assignment2/month-dec-018.html\n",
      "Gathering data from : http://mlg.ucd.ie/modules/COMP41680/assignment2/month-dec-019.html\n",
      "Gathering data from : http://mlg.ucd.ie/modules/COMP41680/assignment2/month-dec-020.html\n",
      "Gathering data from : http://mlg.ucd.ie/modules/COMP41680/assignment2/month-dec-021.html\n",
      "Gathering data from : http://mlg.ucd.ie/modules/COMP41680/assignment2/month-dec-022.html\n",
      "Gathering data from : http://mlg.ucd.ie/modules/COMP41680/assignment2/month-dec-023.html\n",
      "Gathering data from : http://mlg.ucd.ie/modules/COMP41680/assignment2/month-dec-024.html\n",
      "Gathering data from : http://mlg.ucd.ie/modules/COMP41680/assignment2/month-dec-025.html\n"
     ]
    },
    {
     "data": {
      "text/html": [
       "<div>\n",
       "<style scoped>\n",
       "    .dataframe tbody tr th:only-of-type {\n",
       "        vertical-align: middle;\n",
       "    }\n",
       "\n",
       "    .dataframe tbody tr th {\n",
       "        vertical-align: top;\n",
       "    }\n",
       "\n",
       "    .dataframe thead th {\n",
       "        text-align: right;\n",
       "    }\n",
       "</style>\n",
       "<table border=\"1\" class=\"dataframe\">\n",
       "  <thead>\n",
       "    <tr style=\"text-align: right;\">\n",
       "      <th></th>\n",
       "      <th>Title</th>\n",
       "      <th>Snippet</th>\n",
       "      <th>Category</th>\n",
       "    </tr>\n",
       "  </thead>\n",
       "  <tbody>\n",
       "    <tr>\n",
       "      <th>0</th>\n",
       "      <td>Let's resolve to reconnect, says Welby in new ...</td>\n",
       "      <td>The archbishop of Canterbury will urge people ...</td>\n",
       "      <td>UK-News</td>\n",
       "    </tr>\n",
       "    <tr>\n",
       "      <th>1</th>\n",
       "      <td>Be honest. You're not going to read all those ...</td>\n",
       "      <td>Every year, about this time, my Instagram feed...</td>\n",
       "      <td>Books</td>\n",
       "    </tr>\n",
       "    <tr>\n",
       "      <th>2</th>\n",
       "      <td>Mariah Carey's Twitter account hacked on New Y...</td>\n",
       "      <td>Mariah Carey’s Twitter account appeared to hav...</td>\n",
       "      <td>Music</td>\n",
       "    </tr>\n",
       "    <tr>\n",
       "      <th>3</th>\n",
       "      <td>The joy audit: how to have more fun in 2020</td>\n",
       "      <td>The last time I felt joy was at an event that ...</td>\n",
       "      <td>Life-and-Style</td>\n",
       "    </tr>\n",
       "    <tr>\n",
       "      <th>4</th>\n",
       "      <td>Providence Lost by Paul Lay review – the rise ...</td>\n",
       "      <td>The only public execution of a British head of...</td>\n",
       "      <td>Books</td>\n",
       "    </tr>\n",
       "    <tr>\n",
       "      <th>...</th>\n",
       "      <td>...</td>\n",
       "      <td>...</td>\n",
       "      <td>...</td>\n",
       "    </tr>\n",
       "    <tr>\n",
       "      <th>16221</th>\n",
       "      <td>Joe Biden to hold national memorial service fo...</td>\n",
       "      <td>Joe Biden plans to lead a unique nationwide me...</td>\n",
       "      <td>US-News</td>\n",
       "    </tr>\n",
       "    <tr>\n",
       "      <th>16222</th>\n",
       "      <td>Chess: Magnus Carlsen 'in a deep funk' after l...</td>\n",
       "      <td>Magnus Carlsen’s erratic form since his 30th b...</td>\n",
       "      <td>Sport</td>\n",
       "    </tr>\n",
       "    <tr>\n",
       "      <th>16223</th>\n",
       "      <td>Toby Flood leading Newcastle revival in Jonny ...</td>\n",
       "      <td>Amid the cluster of young English fly‑halves c...</td>\n",
       "      <td>Sport</td>\n",
       "    </tr>\n",
       "    <tr>\n",
       "      <th>16224</th>\n",
       "      <td>MF Doom, iconic masked hip-hop MC, dies aged 49</td>\n",
       "      <td>MF Doom, one of US hip-hop’s most distinctive ...</td>\n",
       "      <td>Music</td>\n",
       "    </tr>\n",
       "    <tr>\n",
       "      <th>16225</th>\n",
       "      <td>Brexit: in crisis, without fanfare, UK finally...</td>\n",
       "      <td>Four years, 27 weeks and two days after a refe...</td>\n",
       "      <td>Politics</td>\n",
       "    </tr>\n",
       "  </tbody>\n",
       "</table>\n",
       "<p>16226 rows × 3 columns</p>\n",
       "</div>"
      ],
      "text/plain": [
       "                                                   Title  \\\n",
       "0      Let's resolve to reconnect, says Welby in new ...   \n",
       "1      Be honest. You're not going to read all those ...   \n",
       "2      Mariah Carey's Twitter account hacked on New Y...   \n",
       "3            The joy audit: how to have more fun in 2020   \n",
       "4      Providence Lost by Paul Lay review – the rise ...   \n",
       "...                                                  ...   \n",
       "16221  Joe Biden to hold national memorial service fo...   \n",
       "16222  Chess: Magnus Carlsen 'in a deep funk' after l...   \n",
       "16223  Toby Flood leading Newcastle revival in Jonny ...   \n",
       "16224    MF Doom, iconic masked hip-hop MC, dies aged 49   \n",
       "16225  Brexit: in crisis, without fanfare, UK finally...   \n",
       "\n",
       "                                                 Snippet        Category  \n",
       "0      The archbishop of Canterbury will urge people ...         UK-News  \n",
       "1      Every year, about this time, my Instagram feed...           Books  \n",
       "2      Mariah Carey’s Twitter account appeared to hav...           Music  \n",
       "3      The last time I felt joy was at an event that ...  Life-and-Style  \n",
       "4      The only public execution of a British head of...           Books  \n",
       "...                                                  ...             ...  \n",
       "16221  Joe Biden plans to lead a unique nationwide me...         US-News  \n",
       "16222  Magnus Carlsen’s erratic form since his 30th b...           Sport  \n",
       "16223  Amid the cluster of young English fly‑halves c...           Sport  \n",
       "16224  MF Doom, one of US hip-hop’s most distinctive ...           Music  \n",
       "16225  Four years, 27 weeks and two days after a refe...        Politics  \n",
       "\n",
       "[16226 rows x 3 columns]"
      ]
     },
     "execution_count": 9,
     "metadata": {},
     "output_type": "execute_result"
    }
   ],
   "source": [
    "urls = get_urls(months)\n",
    "data = get_articles(urls)"
   ]
  },
  {
   "cell_type": "markdown",
   "metadata": {},
   "source": [
    "In the above output section we can see that I am collecting data from all the urls. The urls above are equivalent to the number of pages that each month section consists of."
   ]
  },
  {
   "cell_type": "code",
   "execution_count": 10,
   "metadata": {},
   "outputs": [
    {
     "data": {
      "text/plain": [
       "Books             1821\n",
       "Sport             1819\n",
       "Business          1817\n",
       "US-News           1815\n",
       "Politics          1808\n",
       "Music             1797\n",
       "UK-News           1795\n",
       "Life-and-Style    1783\n",
       "Film              1771\n",
       "Name: Category, dtype: int64"
      ]
     },
     "execution_count": 10,
     "metadata": {},
     "output_type": "execute_result"
    }
   ],
   "source": [
    "data.Category.value_counts()"
   ]
  },
  {
   "cell_type": "markdown",
   "metadata": {},
   "source": [
    "Combining **'Ttile'** and **'Snippet'** of each **'Category'** into a single **'Document'** to create a corpus. Data pre-processing will be applied on the entire corpus of documents once combined."
   ]
  },
  {
   "cell_type": "code",
   "execution_count": 11,
   "metadata": {},
   "outputs": [
    {
     "data": {
      "text/html": [
       "<div>\n",
       "<style scoped>\n",
       "    .dataframe tbody tr th:only-of-type {\n",
       "        vertical-align: middle;\n",
       "    }\n",
       "\n",
       "    .dataframe tbody tr th {\n",
       "        vertical-align: top;\n",
       "    }\n",
       "\n",
       "    .dataframe thead th {\n",
       "        text-align: right;\n",
       "    }\n",
       "</style>\n",
       "<table border=\"1\" class=\"dataframe\">\n",
       "  <thead>\n",
       "    <tr style=\"text-align: right;\">\n",
       "      <th></th>\n",
       "      <th>Document</th>\n",
       "      <th>Category</th>\n",
       "    </tr>\n",
       "  </thead>\n",
       "  <tbody>\n",
       "    <tr>\n",
       "      <th>0</th>\n",
       "      <td>Let's resolve to reconnect, says Welby in new ...</td>\n",
       "      <td>UK-News</td>\n",
       "    </tr>\n",
       "    <tr>\n",
       "      <th>1</th>\n",
       "      <td>Be honest. You're not going to read all those ...</td>\n",
       "      <td>Books</td>\n",
       "    </tr>\n",
       "    <tr>\n",
       "      <th>2</th>\n",
       "      <td>Mariah Carey's Twitter account hacked on New Y...</td>\n",
       "      <td>Music</td>\n",
       "    </tr>\n",
       "    <tr>\n",
       "      <th>3</th>\n",
       "      <td>The joy audit: how to have more fun in 2020 Th...</td>\n",
       "      <td>Life-and-Style</td>\n",
       "    </tr>\n",
       "    <tr>\n",
       "      <th>4</th>\n",
       "      <td>Providence Lost by Paul Lay review – the rise ...</td>\n",
       "      <td>Books</td>\n",
       "    </tr>\n",
       "    <tr>\n",
       "      <th>...</th>\n",
       "      <td>...</td>\n",
       "      <td>...</td>\n",
       "    </tr>\n",
       "    <tr>\n",
       "      <th>16221</th>\n",
       "      <td>Joe Biden to hold national memorial service fo...</td>\n",
       "      <td>US-News</td>\n",
       "    </tr>\n",
       "    <tr>\n",
       "      <th>16222</th>\n",
       "      <td>Chess: Magnus Carlsen 'in a deep funk' after l...</td>\n",
       "      <td>Sport</td>\n",
       "    </tr>\n",
       "    <tr>\n",
       "      <th>16223</th>\n",
       "      <td>Toby Flood leading Newcastle revival in Jonny ...</td>\n",
       "      <td>Sport</td>\n",
       "    </tr>\n",
       "    <tr>\n",
       "      <th>16224</th>\n",
       "      <td>MF Doom, iconic masked hip-hop MC, dies aged 4...</td>\n",
       "      <td>Music</td>\n",
       "    </tr>\n",
       "    <tr>\n",
       "      <th>16225</th>\n",
       "      <td>Brexit: in crisis, without fanfare, UK finally...</td>\n",
       "      <td>Politics</td>\n",
       "    </tr>\n",
       "  </tbody>\n",
       "</table>\n",
       "<p>16226 rows × 2 columns</p>\n",
       "</div>"
      ],
      "text/plain": [
       "                                                Document        Category\n",
       "0      Let's resolve to reconnect, says Welby in new ...         UK-News\n",
       "1      Be honest. You're not going to read all those ...           Books\n",
       "2      Mariah Carey's Twitter account hacked on New Y...           Music\n",
       "3      The joy audit: how to have more fun in 2020 Th...  Life-and-Style\n",
       "4      Providence Lost by Paul Lay review – the rise ...           Books\n",
       "...                                                  ...             ...\n",
       "16221  Joe Biden to hold national memorial service fo...         US-News\n",
       "16222  Chess: Magnus Carlsen 'in a deep funk' after l...           Sport\n",
       "16223  Toby Flood leading Newcastle revival in Jonny ...           Sport\n",
       "16224  MF Doom, iconic masked hip-hop MC, dies aged 4...           Music\n",
       "16225  Brexit: in crisis, without fanfare, UK finally...        Politics\n",
       "\n",
       "[16226 rows x 2 columns]"
      ]
     },
     "execution_count": 11,
     "metadata": {},
     "output_type": "execute_result"
    }
   ],
   "source": [
    "data['Document'] = data['Title'] +' '+ data['Snippet']\n",
    "data.drop(['Title','Snippet'],axis=1,inplace=True)\n",
    "data = data.reindex(columns=['Document','Category'])\n",
    "data"
   ]
  },
  {
   "cell_type": "markdown",
   "metadata": {},
   "source": [
    "The above dataframe consists of total 9 categories. From these 9 categories I am going to select three categories which I will use for multi-class classification and out of those three I will create pairs for binary classification.\n",
    "<br> The ctegories I am selecting are:\n",
    "1. **Books**\n",
    "2. **Music**\n",
    "3. **Sport**"
   ]
  },
  {
   "cell_type": "code",
   "execution_count": 139,
   "metadata": {},
   "outputs": [
    {
     "data": {
      "text/html": [
       "<div>\n",
       "<style scoped>\n",
       "    .dataframe tbody tr th:only-of-type {\n",
       "        vertical-align: middle;\n",
       "    }\n",
       "\n",
       "    .dataframe tbody tr th {\n",
       "        vertical-align: top;\n",
       "    }\n",
       "\n",
       "    .dataframe thead th {\n",
       "        text-align: right;\n",
       "    }\n",
       "</style>\n",
       "<table border=\"1\" class=\"dataframe\">\n",
       "  <thead>\n",
       "    <tr style=\"text-align: right;\">\n",
       "      <th></th>\n",
       "      <th>Document</th>\n",
       "      <th>Category</th>\n",
       "    </tr>\n",
       "  </thead>\n",
       "  <tbody>\n",
       "    <tr>\n",
       "      <th>1</th>\n",
       "      <td>Be honest. You're not going to read all those ...</td>\n",
       "      <td>Books</td>\n",
       "    </tr>\n",
       "    <tr>\n",
       "      <th>2</th>\n",
       "      <td>Mariah Carey's Twitter account hacked on New Y...</td>\n",
       "      <td>Music</td>\n",
       "    </tr>\n",
       "    <tr>\n",
       "      <th>4</th>\n",
       "      <td>Providence Lost by Paul Lay review – the rise ...</td>\n",
       "      <td>Books</td>\n",
       "    </tr>\n",
       "    <tr>\n",
       "      <th>9</th>\n",
       "      <td>'I'm on the hunt for humour and hope': what wi...</td>\n",
       "      <td>Books</td>\n",
       "    </tr>\n",
       "    <tr>\n",
       "      <th>10</th>\n",
       "      <td>Twenty athletes set to light up the Tokyo 2020...</td>\n",
       "      <td>Sport</td>\n",
       "    </tr>\n",
       "    <tr>\n",
       "      <th>...</th>\n",
       "      <td>...</td>\n",
       "      <td>...</td>\n",
       "    </tr>\n",
       "    <tr>\n",
       "      <th>16200</th>\n",
       "      <td>'All that mattered was survival': the songs th...</td>\n",
       "      <td>Music</td>\n",
       "    </tr>\n",
       "    <tr>\n",
       "      <th>16201</th>\n",
       "      <td>The most notable US athletes of 2020: No 1 – L...</td>\n",
       "      <td>Sport</td>\n",
       "    </tr>\n",
       "    <tr>\n",
       "      <th>16222</th>\n",
       "      <td>Chess: Magnus Carlsen 'in a deep funk' after l...</td>\n",
       "      <td>Sport</td>\n",
       "    </tr>\n",
       "    <tr>\n",
       "      <th>16223</th>\n",
       "      <td>Toby Flood leading Newcastle revival in Jonny ...</td>\n",
       "      <td>Sport</td>\n",
       "    </tr>\n",
       "    <tr>\n",
       "      <th>16224</th>\n",
       "      <td>MF Doom, iconic masked hip-hop MC, dies aged 4...</td>\n",
       "      <td>Music</td>\n",
       "    </tr>\n",
       "  </tbody>\n",
       "</table>\n",
       "<p>5437 rows × 2 columns</p>\n",
       "</div>"
      ],
      "text/plain": [
       "                                                Document Category\n",
       "1      Be honest. You're not going to read all those ...    Books\n",
       "2      Mariah Carey's Twitter account hacked on New Y...    Music\n",
       "4      Providence Lost by Paul Lay review – the rise ...    Books\n",
       "9      'I'm on the hunt for humour and hope': what wi...    Books\n",
       "10     Twenty athletes set to light up the Tokyo 2020...    Sport\n",
       "...                                                  ...      ...\n",
       "16200  'All that mattered was survival': the songs th...    Music\n",
       "16201  The most notable US athletes of 2020: No 1 – L...    Sport\n",
       "16222  Chess: Magnus Carlsen 'in a deep funk' after l...    Sport\n",
       "16223  Toby Flood leading Newcastle revival in Jonny ...    Sport\n",
       "16224  MF Doom, iconic masked hip-hop MC, dies aged 4...    Music\n",
       "\n",
       "[5437 rows x 2 columns]"
      ]
     },
     "execution_count": 139,
     "metadata": {},
     "output_type": "execute_result"
    }
   ],
   "source": [
    "data.to_csv('Task1_data.csv')\n",
    "data = pd.read_csv('Task1_data.csv')\n",
    "data.drop(data.columns[0], axis=1,inplace=True)\n",
    "final = data[(data.Category == 'Sport') | (data.Category == 'Music') | (data.Category == 'Books')]\n",
    "final"
   ]
  },
  {
   "cell_type": "markdown",
   "metadata": {},
   "source": [
    "The **Documents** in the above dataframe consists of raw text. Before providing these documents to your model it is very neccessary to clean your data. Data cleaning is required because providing raw data to your model will restrict the model to train and predict in a robust manner. The model will unnecessarily learn noise from the raw data that is not required."
   ]
  },
  {
   "cell_type": "markdown",
   "metadata": {},
   "source": [
    "### Data pre-processing"
   ]
  },
  {
   "cell_type": "markdown",
   "metadata": {},
   "source": [
    "In order to clean the data I am going to use the following data pre-processing techniques:\n",
    "1. **Lower case**: It is a good practice to convert all the text into lower case because there might be words like 'Walking' and 'walking' which both means the same but the model will treat them differently.\n",
    "2. **Removing punctuation**: The text may contain a lot of punctuations which are not required in classification and should be removed to reduce ambiguity. Python's string.punctuation gives us all the punctuations which we can be used to removed them from our text.\n",
    "3. **Removing HTML tags**: As we have gathered the data from urls using web scraping, the documents may contain html tags which we need to remove.\n",
    "4. **Removing stopwords**: There will be a lot of stop words like 'a', 'the', 'for', etc in the sentences and are most common words in sentences. Removing these words will help the model to focus only on important or key words. A list of stop words is provided by the **nltk** which can be used to remove them from our documents.\n",
    "5. **Normalization**: It is a process of converting all the words to their root form. There are mainly two techniques for this:\n",
    " - Stemming: It usually cuts off the prefixes and suffixes of the words but this can not be useful all the time. For example it cuts the word from 'caring' to 'car' which completely changes its meaning.\n",
    " - Lemmatization: It usually performes normalization by using the morphological analysis of words and vocabulary. It's aim to remove inflectional endings and return dictionary or base form of the word. For example it will normalize the word from 'caring' to 'care' and also preserves the meaning of the word. I am going to use this technique for normalizng my documents. **WordNetLemmatizer** provided by **nltk** can be used.\n",
    "6. **Tokenization**: It is a process of splitting the entire sentence into words which helps to easily interpret the meaning of the sentence. I am not performing tokenization in the data pre-processing section because further I am using TfidfVectorizer to convert the words into numbers. The TfidfVectorizer internally performes tokenization on the text passed to it."
   ]
  },
  {
   "cell_type": "code",
   "execution_count": 140,
   "metadata": {},
   "outputs": [],
   "source": [
    "def checkcount(data):\n",
    "    data['Punctuations'] = data['Document'].apply(lambda length: len(\" \".join(_ for _ in length if _ in string.punctuation)))\n",
    "    data['Upper_case'] = data['Document'].apply(lambda word: len([_ for _ in str(word).split() if _.isupper()]))\n",
    "    data['Title'] = data['Document'].apply(lambda word: len([_ for _ in str(word).split() if _.istitle()]))\n",
    "    data['WordswNumbers'] = data['Document'].apply(lambda word: len(re.findall(r'\\w*\\d\\w*', word)))\n",
    "    data['SingleLetters'] = data['Document'].apply(lambda word: len(re.findall(r'\\b[a-zA-Z]\\b', word)))\n",
    "    return data"
   ]
  },
  {
   "cell_type": "markdown",
   "metadata": {},
   "source": [
    "First I will check the count of punctuations, uppercase words, titles and words with numbers in it from each document."
   ]
  },
  {
   "cell_type": "code",
   "execution_count": 141,
   "metadata": {},
   "outputs": [
    {
     "data": {
      "text/html": [
       "<div>\n",
       "<style scoped>\n",
       "    .dataframe tbody tr th:only-of-type {\n",
       "        vertical-align: middle;\n",
       "    }\n",
       "\n",
       "    .dataframe tbody tr th {\n",
       "        vertical-align: top;\n",
       "    }\n",
       "\n",
       "    .dataframe thead th {\n",
       "        text-align: right;\n",
       "    }\n",
       "</style>\n",
       "<table border=\"1\" class=\"dataframe\">\n",
       "  <thead>\n",
       "    <tr style=\"text-align: right;\">\n",
       "      <th></th>\n",
       "      <th>Document</th>\n",
       "      <th>Category</th>\n",
       "      <th>Punctuations</th>\n",
       "      <th>Upper_case</th>\n",
       "      <th>Title</th>\n",
       "      <th>WordswNumbers</th>\n",
       "      <th>SingleLetters</th>\n",
       "    </tr>\n",
       "  </thead>\n",
       "  <tbody>\n",
       "    <tr>\n",
       "      <th>1</th>\n",
       "      <td>Be honest. You're not going to read all those ...</td>\n",
       "      <td>Books</td>\n",
       "      <td>15</td>\n",
       "      <td>0</td>\n",
       "      <td>3</td>\n",
       "      <td>0</td>\n",
       "      <td>0</td>\n",
       "    </tr>\n",
       "    <tr>\n",
       "      <th>2</th>\n",
       "      <td>Mariah Carey's Twitter account hacked on New Y...</td>\n",
       "      <td>Music</td>\n",
       "      <td>7</td>\n",
       "      <td>0</td>\n",
       "      <td>7</td>\n",
       "      <td>2</td>\n",
       "      <td>4</td>\n",
       "    </tr>\n",
       "    <tr>\n",
       "      <th>4</th>\n",
       "      <td>Providence Lost by Paul Lay review – the rise ...</td>\n",
       "      <td>Books</td>\n",
       "      <td>1</td>\n",
       "      <td>0</td>\n",
       "      <td>13</td>\n",
       "      <td>3</td>\n",
       "      <td>3</td>\n",
       "    </tr>\n",
       "    <tr>\n",
       "      <th>9</th>\n",
       "      <td>'I'm on the hunt for humour and hope': what wi...</td>\n",
       "      <td>Books</td>\n",
       "      <td>15</td>\n",
       "      <td>2</td>\n",
       "      <td>5</td>\n",
       "      <td>1</td>\n",
       "      <td>5</td>\n",
       "    </tr>\n",
       "    <tr>\n",
       "      <th>10</th>\n",
       "      <td>Twenty athletes set to light up the Tokyo 2020...</td>\n",
       "      <td>Sport</td>\n",
       "      <td>13</td>\n",
       "      <td>0</td>\n",
       "      <td>12</td>\n",
       "      <td>4</td>\n",
       "      <td>1</td>\n",
       "    </tr>\n",
       "    <tr>\n",
       "      <th>...</th>\n",
       "      <td>...</td>\n",
       "      <td>...</td>\n",
       "      <td>...</td>\n",
       "      <td>...</td>\n",
       "      <td>...</td>\n",
       "      <td>...</td>\n",
       "      <td>...</td>\n",
       "    </tr>\n",
       "    <tr>\n",
       "      <th>16200</th>\n",
       "      <td>'All that mattered was survival': the songs th...</td>\n",
       "      <td>Music</td>\n",
       "      <td>7</td>\n",
       "      <td>0</td>\n",
       "      <td>6</td>\n",
       "      <td>1</td>\n",
       "      <td>1</td>\n",
       "    </tr>\n",
       "    <tr>\n",
       "      <th>16201</th>\n",
       "      <td>The most notable US athletes of 2020: No 1 – L...</td>\n",
       "      <td>Sport</td>\n",
       "      <td>5</td>\n",
       "      <td>2</td>\n",
       "      <td>8</td>\n",
       "      <td>2</td>\n",
       "      <td>4</td>\n",
       "    </tr>\n",
       "    <tr>\n",
       "      <th>16222</th>\n",
       "      <td>Chess: Magnus Carlsen 'in a deep funk' after l...</td>\n",
       "      <td>Sport</td>\n",
       "      <td>5</td>\n",
       "      <td>0</td>\n",
       "      <td>9</td>\n",
       "      <td>1</td>\n",
       "      <td>4</td>\n",
       "    </tr>\n",
       "    <tr>\n",
       "      <th>16223</th>\n",
       "      <td>Toby Flood leading Newcastle revival in Jonny ...</td>\n",
       "      <td>Sport</td>\n",
       "      <td>3</td>\n",
       "      <td>0</td>\n",
       "      <td>10</td>\n",
       "      <td>1</td>\n",
       "      <td>1</td>\n",
       "    </tr>\n",
       "    <tr>\n",
       "      <th>16224</th>\n",
       "      <td>MF Doom, iconic masked hip-hop MC, dies aged 4...</td>\n",
       "      <td>Music</td>\n",
       "      <td>15</td>\n",
       "      <td>4</td>\n",
       "      <td>6</td>\n",
       "      <td>2</td>\n",
       "      <td>1</td>\n",
       "    </tr>\n",
       "  </tbody>\n",
       "</table>\n",
       "<p>5437 rows × 7 columns</p>\n",
       "</div>"
      ],
      "text/plain": [
       "                                                Document Category  \\\n",
       "1      Be honest. You're not going to read all those ...    Books   \n",
       "2      Mariah Carey's Twitter account hacked on New Y...    Music   \n",
       "4      Providence Lost by Paul Lay review – the rise ...    Books   \n",
       "9      'I'm on the hunt for humour and hope': what wi...    Books   \n",
       "10     Twenty athletes set to light up the Tokyo 2020...    Sport   \n",
       "...                                                  ...      ...   \n",
       "16200  'All that mattered was survival': the songs th...    Music   \n",
       "16201  The most notable US athletes of 2020: No 1 – L...    Sport   \n",
       "16222  Chess: Magnus Carlsen 'in a deep funk' after l...    Sport   \n",
       "16223  Toby Flood leading Newcastle revival in Jonny ...    Sport   \n",
       "16224  MF Doom, iconic masked hip-hop MC, dies aged 4...    Music   \n",
       "\n",
       "       Punctuations  Upper_case  Title  WordswNumbers  SingleLetters  \n",
       "1                15           0      3              0              0  \n",
       "2                 7           0      7              2              4  \n",
       "4                 1           0     13              3              3  \n",
       "9                15           2      5              1              5  \n",
       "10               13           0     12              4              1  \n",
       "...             ...         ...    ...            ...            ...  \n",
       "16200             7           0      6              1              1  \n",
       "16201             5           2      8              2              4  \n",
       "16222             5           0      9              1              4  \n",
       "16223             3           0     10              1              1  \n",
       "16224            15           4      6              2              1  \n",
       "\n",
       "[5437 rows x 7 columns]"
      ]
     },
     "execution_count": 141,
     "metadata": {},
     "output_type": "execute_result"
    }
   ],
   "source": [
    "final = checkcount(final)\n",
    "final"
   ]
  },
  {
   "cell_type": "code",
   "execution_count": 142,
   "metadata": {},
   "outputs": [],
   "source": [
    "def clean(data):\n",
    "    #Converting to lowercase\n",
    "    data.loc[:,'Document'] = data['Document'].str.lower() \n",
    "    #Removing all the punctuations\n",
    "    punctuations = string.punctuation\n",
    "    data.loc[:,'Document'] = data['Document'].apply(lambda text: text.translate(str.maketrans('', '', punctuations)))\n",
    "    #Removing HTML tags if any\n",
    "    data.loc[:,'Document'] = data['Document'].apply(lambda text: re.sub(r'<.*?>', '', text).strip())\n",
    "    #Removing all the stopwords\n",
    "    stopword = stopwords.words('english')\n",
    "    data.loc[:,'Document'] = data['Document'].apply(lambda text: \" \".join([word for word in str(text).split() \n",
    "                                                                     if word not in stopword]))\n",
    "    #Lemmatizing\n",
    "    lemmat = WordNetLemmatizer()\n",
    "    data.loc[:,'Document'] = data['Document'].apply(lambda text: \" \".join([lemmat.lemmatize(word, wordnet.VERB) \n",
    "                                                                           for word in text.split()]))\n",
    "    data.loc[:,'Document'] = data['Document'].apply(lambda text: \" \".join([lemmat.lemmatize(word, wordnet.NOUN) \n",
    "                                                                           for word in text.split()]))\n",
    "    data.loc[:,'Document'] = data['Document'].apply(lambda text: \" \".join([lemmat.lemmatize(word, wordnet.ADJ) \n",
    "                                                                           for word in text.split()]))\n",
    "    #Removing numbers and words that contains numbers in it\n",
    "    data.loc[:,'Document'] = data['Document'].apply(lambda text: re.sub(r'\\w*\\d\\w*', '', text).strip())\n",
    "    #Removing words with single letter\n",
    "    data.loc[:,'Document'] = data['Document'].apply(lambda text: re.sub(r'\\b[a-zA-Z]\\b', '', text).strip())\n",
    "    return data"
   ]
  },
  {
   "cell_type": "code",
   "execution_count": 143,
   "metadata": {},
   "outputs": [
    {
     "data": {
      "text/html": [
       "<div>\n",
       "<style scoped>\n",
       "    .dataframe tbody tr th:only-of-type {\n",
       "        vertical-align: middle;\n",
       "    }\n",
       "\n",
       "    .dataframe tbody tr th {\n",
       "        vertical-align: top;\n",
       "    }\n",
       "\n",
       "    .dataframe thead th {\n",
       "        text-align: right;\n",
       "    }\n",
       "</style>\n",
       "<table border=\"1\" class=\"dataframe\">\n",
       "  <thead>\n",
       "    <tr style=\"text-align: right;\">\n",
       "      <th></th>\n",
       "      <th>Document</th>\n",
       "      <th>Category</th>\n",
       "      <th>Punctuations</th>\n",
       "      <th>Upper_case</th>\n",
       "      <th>Title</th>\n",
       "      <th>WordswNumbers</th>\n",
       "      <th>SingleLetters</th>\n",
       "    </tr>\n",
       "  </thead>\n",
       "  <tbody>\n",
       "    <tr>\n",
       "      <th>1</th>\n",
       "      <td>honest youre go read book holiday every year t...</td>\n",
       "      <td>Books</td>\n",
       "      <td>0</td>\n",
       "      <td>0</td>\n",
       "      <td>0</td>\n",
       "      <td>0</td>\n",
       "      <td>0</td>\n",
       "    </tr>\n",
       "    <tr>\n",
       "      <th>2</th>\n",
       "      <td>mariah careys twitter account hack new year ev...</td>\n",
       "      <td>Music</td>\n",
       "      <td>0</td>\n",
       "      <td>0</td>\n",
       "      <td>0</td>\n",
       "      <td>0</td>\n",
       "      <td>0</td>\n",
       "    </tr>\n",
       "    <tr>\n",
       "      <th>4</th>\n",
       "      <td>providence lose paul lay review – rise fall ol...</td>\n",
       "      <td>Books</td>\n",
       "      <td>0</td>\n",
       "      <td>0</td>\n",
       "      <td>0</td>\n",
       "      <td>0</td>\n",
       "      <td>0</td>\n",
       "    </tr>\n",
       "    <tr>\n",
       "      <th>9</th>\n",
       "      <td>im hunt humour hope author read  matt haig dar...</td>\n",
       "      <td>Books</td>\n",
       "      <td>0</td>\n",
       "      <td>0</td>\n",
       "      <td>0</td>\n",
       "      <td>0</td>\n",
       "      <td>0</td>\n",
       "    </tr>\n",
       "    <tr>\n",
       "      <th>10</th>\n",
       "      <td>twenty athlete set light tokyo  olympics dina ...</td>\n",
       "      <td>Sport</td>\n",
       "      <td>0</td>\n",
       "      <td>0</td>\n",
       "      <td>0</td>\n",
       "      <td>0</td>\n",
       "      <td>0</td>\n",
       "    </tr>\n",
       "    <tr>\n",
       "      <th>...</th>\n",
       "      <td>...</td>\n",
       "      <td>...</td>\n",
       "      <td>...</td>\n",
       "      <td>...</td>\n",
       "      <td>...</td>\n",
       "      <td>...</td>\n",
       "      <td>...</td>\n",
       "    </tr>\n",
       "    <tr>\n",
       "      <th>16200</th>\n",
       "      <td>matter survival song get   isaac hay – go circ...</td>\n",
       "      <td>Music</td>\n",
       "      <td>0</td>\n",
       "      <td>0</td>\n",
       "      <td>0</td>\n",
       "      <td>0</td>\n",
       "      <td>0</td>\n",
       "    </tr>\n",
       "    <tr>\n",
       "      <th>16201</th>\n",
       "      <td>notable  athlete   – lebron jam man season las...</td>\n",
       "      <td>Sport</td>\n",
       "      <td>0</td>\n",
       "      <td>0</td>\n",
       "      <td>0</td>\n",
       "      <td>0</td>\n",
       "      <td>0</td>\n",
       "    </tr>\n",
       "    <tr>\n",
       "      <th>16222</th>\n",
       "      <td>chess magnus carlsen deep funk late defeat dan...</td>\n",
       "      <td>Sport</td>\n",
       "      <td>0</td>\n",
       "      <td>0</td>\n",
       "      <td>0</td>\n",
       "      <td>0</td>\n",
       "      <td>0</td>\n",
       "    </tr>\n",
       "    <tr>\n",
       "      <th>16223</th>\n",
       "      <td>toby flood lead newcastle revival jonny wilkin...</td>\n",
       "      <td>Sport</td>\n",
       "      <td>0</td>\n",
       "      <td>0</td>\n",
       "      <td>0</td>\n",
       "      <td>0</td>\n",
       "      <td>0</td>\n",
       "    </tr>\n",
       "    <tr>\n",
       "      <th>16224</th>\n",
       "      <td>mf doom iconic mask hiphop mc die age  mf doom...</td>\n",
       "      <td>Music</td>\n",
       "      <td>0</td>\n",
       "      <td>0</td>\n",
       "      <td>0</td>\n",
       "      <td>0</td>\n",
       "      <td>0</td>\n",
       "    </tr>\n",
       "  </tbody>\n",
       "</table>\n",
       "<p>5437 rows × 7 columns</p>\n",
       "</div>"
      ],
      "text/plain": [
       "                                                Document Category  \\\n",
       "1      honest youre go read book holiday every year t...    Books   \n",
       "2      mariah careys twitter account hack new year ev...    Music   \n",
       "4      providence lose paul lay review – rise fall ol...    Books   \n",
       "9      im hunt humour hope author read  matt haig dar...    Books   \n",
       "10     twenty athlete set light tokyo  olympics dina ...    Sport   \n",
       "...                                                  ...      ...   \n",
       "16200  matter survival song get   isaac hay – go circ...    Music   \n",
       "16201  notable  athlete   – lebron jam man season las...    Sport   \n",
       "16222  chess magnus carlsen deep funk late defeat dan...    Sport   \n",
       "16223  toby flood lead newcastle revival jonny wilkin...    Sport   \n",
       "16224  mf doom iconic mask hiphop mc die age  mf doom...    Music   \n",
       "\n",
       "       Punctuations  Upper_case  Title  WordswNumbers  SingleLetters  \n",
       "1                 0           0      0              0              0  \n",
       "2                 0           0      0              0              0  \n",
       "4                 0           0      0              0              0  \n",
       "9                 0           0      0              0              0  \n",
       "10                0           0      0              0              0  \n",
       "...             ...         ...    ...            ...            ...  \n",
       "16200             0           0      0              0              0  \n",
       "16201             0           0      0              0              0  \n",
       "16222             0           0      0              0              0  \n",
       "16223             0           0      0              0              0  \n",
       "16224             0           0      0              0              0  \n",
       "\n",
       "[5437 rows x 7 columns]"
      ]
     },
     "execution_count": 143,
     "metadata": {},
     "output_type": "execute_result"
    }
   ],
   "source": [
    "#Cleaning and pre-processing\n",
    "final = clean(final)\n",
    "final = checkcount(final)\n",
    "final"
   ]
  },
  {
   "cell_type": "markdown",
   "metadata": {},
   "source": [
    "###### Counting frequant words in all the classes"
   ]
  },
  {
   "cell_type": "code",
   "execution_count": 144,
   "metadata": {},
   "outputs": [
    {
     "name": "stdout",
     "output_type": "stream",
     "text": [
      "Books = [('…', 1835), ('–', 887), ('review', 704), ('book', 599), ('novel', 328), ('year', 213), ('read', 210), ('write', 197), ('author', 189), ('first', 181), ('new', 173), ('time', 162), ('one', 159), ('story', 157), ('writer', 154)] \n",
      " Music =  [('…', 1810), ('–', 871), ('review', 554), ('music', 440), ('album', 273), ('die', 241), ('one', 225), ('age', 224), ('year', 223), ('new', 222), ('first', 168), ('make', 168), ('song', 161), ('pop', 154), ('time', 136)] \n",
      " Sport =  [('…', 1827), ('england', 344), ('sport', 243), ('–', 242), ('one', 235), ('world', 227), ('say', 212), ('race', 204), ('rugby', 198), ('win', 191), ('year', 191), ('new', 185), ('test', 184), ('first', 183), ('day', 181)]\n"
     ]
    }
   ],
   "source": [
    "books = Counter()\n",
    "music = Counter()\n",
    "sport = Counter()\n",
    "for text in final[final.Category== 'Books'][\"Document\"].values:\n",
    "    for word in text.split():\n",
    "        books[word] += 1\n",
    "for text in final[final.Category== 'Music'][\"Document\"].values:\n",
    "    for word in text.split():\n",
    "        music[word] += 1\n",
    "for text in final[final.Category== 'Sport'][\"Document\"].values:\n",
    "    for word in text.split():\n",
    "        sport[word] += 1\n",
    "books.most_common(10)\n",
    "music.most_common(10)\n",
    "sport.most_common(10)\n",
    "#Printing top10 frequent words all the three classes\n",
    "print('Books =',books.most_common(15),'\\n Music = ',music.most_common(15),'\\n Sport = ',sport.most_common(15))"
   ]
  },
  {
   "cell_type": "markdown",
   "metadata": {},
   "source": [
    "The words that most frequent and belongs to all the three categories should be removed because they will contribute in the same amount to all the classes which is not helpful for classification. I will remove these words as well."
   ]
  },
  {
   "cell_type": "code",
   "execution_count": 145,
   "metadata": {},
   "outputs": [
    {
     "data": {
      "text/html": [
       "<div>\n",
       "<style scoped>\n",
       "    .dataframe tbody tr th:only-of-type {\n",
       "        vertical-align: middle;\n",
       "    }\n",
       "\n",
       "    .dataframe tbody tr th {\n",
       "        vertical-align: top;\n",
       "    }\n",
       "\n",
       "    .dataframe thead th {\n",
       "        text-align: right;\n",
       "    }\n",
       "</style>\n",
       "<table border=\"1\" class=\"dataframe\">\n",
       "  <thead>\n",
       "    <tr style=\"text-align: right;\">\n",
       "      <th></th>\n",
       "      <th>Document</th>\n",
       "      <th>Category</th>\n",
       "      <th>Punctuations</th>\n",
       "      <th>Upper_case</th>\n",
       "      <th>Title</th>\n",
       "      <th>WordswNumbers</th>\n",
       "      <th>SingleLetters</th>\n",
       "    </tr>\n",
       "  </thead>\n",
       "  <tbody>\n",
       "    <tr>\n",
       "      <th>1</th>\n",
       "      <td>honest youre go read book holiday every time i...</td>\n",
       "      <td>Books</td>\n",
       "      <td>0</td>\n",
       "      <td>0</td>\n",
       "      <td>0</td>\n",
       "      <td>0</td>\n",
       "      <td>0</td>\n",
       "    </tr>\n",
       "    <tr>\n",
       "      <th>2</th>\n",
       "      <td>mariah careys twitter account hack eve mariah ...</td>\n",
       "      <td>Music</td>\n",
       "      <td>0</td>\n",
       "      <td>0</td>\n",
       "      <td>0</td>\n",
       "      <td>0</td>\n",
       "      <td>0</td>\n",
       "    </tr>\n",
       "    <tr>\n",
       "      <th>4</th>\n",
       "      <td>providence lose paul lay review rise fall oliv...</td>\n",
       "      <td>Books</td>\n",
       "      <td>0</td>\n",
       "      <td>0</td>\n",
       "      <td>0</td>\n",
       "      <td>0</td>\n",
       "      <td>0</td>\n",
       "    </tr>\n",
       "    <tr>\n",
       "      <th>9</th>\n",
       "      <td>im hunt humour hope author read matt haig dark...</td>\n",
       "      <td>Books</td>\n",
       "      <td>0</td>\n",
       "      <td>0</td>\n",
       "      <td>0</td>\n",
       "      <td>0</td>\n",
       "      <td>0</td>\n",
       "    </tr>\n",
       "    <tr>\n",
       "      <th>10</th>\n",
       "      <td>twenty athlete set light tokyo olympics dina a...</td>\n",
       "      <td>Sport</td>\n",
       "      <td>0</td>\n",
       "      <td>0</td>\n",
       "      <td>0</td>\n",
       "      <td>0</td>\n",
       "      <td>0</td>\n",
       "    </tr>\n",
       "    <tr>\n",
       "      <th>...</th>\n",
       "      <td>...</td>\n",
       "      <td>...</td>\n",
       "      <td>...</td>\n",
       "      <td>...</td>\n",
       "      <td>...</td>\n",
       "      <td>...</td>\n",
       "      <td>...</td>\n",
       "    </tr>\n",
       "    <tr>\n",
       "      <th>16200</th>\n",
       "      <td>matter survival song get isaac hay go circle c...</td>\n",
       "      <td>Music</td>\n",
       "      <td>0</td>\n",
       "      <td>0</td>\n",
       "      <td>0</td>\n",
       "      <td>0</td>\n",
       "      <td>0</td>\n",
       "    </tr>\n",
       "    <tr>\n",
       "      <th>16201</th>\n",
       "      <td>notable athlete lebron jam man season last mon...</td>\n",
       "      <td>Sport</td>\n",
       "      <td>0</td>\n",
       "      <td>0</td>\n",
       "      <td>0</td>\n",
       "      <td>0</td>\n",
       "      <td>0</td>\n",
       "    </tr>\n",
       "    <tr>\n",
       "      <th>16222</th>\n",
       "      <td>chess magnus carlsen deep funk late defeat dan...</td>\n",
       "      <td>Sport</td>\n",
       "      <td>0</td>\n",
       "      <td>0</td>\n",
       "      <td>0</td>\n",
       "      <td>0</td>\n",
       "      <td>0</td>\n",
       "    </tr>\n",
       "    <tr>\n",
       "      <th>16223</th>\n",
       "      <td>toby flood lead newcastle revival jonny wilkin...</td>\n",
       "      <td>Sport</td>\n",
       "      <td>0</td>\n",
       "      <td>0</td>\n",
       "      <td>0</td>\n",
       "      <td>0</td>\n",
       "      <td>0</td>\n",
       "    </tr>\n",
       "    <tr>\n",
       "      <th>16224</th>\n",
       "      <td>mf doom iconic mask hiphop mc die age mf doom ...</td>\n",
       "      <td>Music</td>\n",
       "      <td>0</td>\n",
       "      <td>0</td>\n",
       "      <td>0</td>\n",
       "      <td>0</td>\n",
       "      <td>0</td>\n",
       "    </tr>\n",
       "  </tbody>\n",
       "</table>\n",
       "<p>5437 rows × 7 columns</p>\n",
       "</div>"
      ],
      "text/plain": [
       "                                                Document Category  \\\n",
       "1      honest youre go read book holiday every time i...    Books   \n",
       "2      mariah careys twitter account hack eve mariah ...    Music   \n",
       "4      providence lose paul lay review rise fall oliv...    Books   \n",
       "9      im hunt humour hope author read matt haig dark...    Books   \n",
       "10     twenty athlete set light tokyo olympics dina a...    Sport   \n",
       "...                                                  ...      ...   \n",
       "16200  matter survival song get isaac hay go circle c...    Music   \n",
       "16201  notable athlete lebron jam man season last mon...    Sport   \n",
       "16222  chess magnus carlsen deep funk late defeat dan...    Sport   \n",
       "16223  toby flood lead newcastle revival jonny wilkin...    Sport   \n",
       "16224  mf doom iconic mask hiphop mc die age mf doom ...    Music   \n",
       "\n",
       "       Punctuations  Upper_case  Title  WordswNumbers  SingleLetters  \n",
       "1                 0           0      0              0              0  \n",
       "2                 0           0      0              0              0  \n",
       "4                 0           0      0              0              0  \n",
       "9                 0           0      0              0              0  \n",
       "10                0           0      0              0              0  \n",
       "...             ...         ...    ...            ...            ...  \n",
       "16200             0           0      0              0              0  \n",
       "16201             0           0      0              0              0  \n",
       "16222             0           0      0              0              0  \n",
       "16223             0           0      0              0              0  \n",
       "16224             0           0      0              0              0  \n",
       "\n",
       "[5437 rows x 7 columns]"
      ]
     },
     "execution_count": 145,
     "metadata": {},
     "output_type": "execute_result"
    }
   ],
   "source": [
    "words_to_remove = ['…','–','one','first','year','new']\n",
    "final['Document'] = final['Document'].apply(lambda text: \" \".join([word for word in str(text).split() \n",
    "                                                                   if word not in words_to_remove]))\n",
    "final"
   ]
  },
  {
   "cell_type": "code",
   "execution_count": 146,
   "metadata": {},
   "outputs": [],
   "source": [
    "final.to_csv('Cleaned.csv')"
   ]
  },
  {
   "cell_type": "markdown",
   "metadata": {},
   "source": [
    "###### Making pairs for binary calssification"
   ]
  },
  {
   "cell_type": "code",
   "execution_count": 147,
   "metadata": {},
   "outputs": [],
   "source": [
    "#Function to create dataframes with pairs for binary calssification\n",
    "def pair(final,classes):\n",
    "    binary = final[(final.Category == classes[0]) | (final.Category == classes[1])]\n",
    "    return binary"
   ]
  },
  {
   "cell_type": "code",
   "execution_count": 148,
   "metadata": {},
   "outputs": [
    {
     "name": "stdout",
     "output_type": "stream",
     "text": [
      "Pair 1: \n",
      "Books    1821\n",
      "Sport    1819\n",
      "Name: Category, dtype: int64\n",
      "Pair 2: \n",
      "Sport    1819\n",
      "Music    1797\n",
      "Name: Category, dtype: int64\n",
      "Pair 3: \n",
      "Books    1821\n",
      "Music    1797\n",
      "Name: Category, dtype: int64\n"
     ]
    }
   ],
   "source": [
    "binary1 = pair(final,['Sport','Books'])\n",
    "binary2 = pair(final,['Sport','Music'])\n",
    "binary3 = pair(final,['Music','Books'])\n",
    "print('Pair 1: ')\n",
    "print(binary1.Category.value_counts())\n",
    "print('Pair 2: ')\n",
    "print(binary2.Category.value_counts())\n",
    "print('Pair 3: ')\n",
    "print(binary3.Category.value_counts())"
   ]
  },
  {
   "cell_type": "markdown",
   "metadata": {},
   "source": [
    "From the above output we can see that for all the three pairs, there are almost similar number of records for each category. This tells us that the data is balanced. So further I am going to use Accuracy as my evaluation metric. If the data was imbalanced then I would have used ROC AUC as an evaluation metric."
   ]
  },
  {
   "cell_type": "markdown",
   "metadata": {},
   "source": [
    "Once the documents are cleaned, before providing them to the model we have to create numeric representation of the documents. The process of converting these words into numeric form is called vectorization. There are two common techniques which are used for vectorization:\n",
    "1. **BagOfWords (BOW)**: A list of all the unique words that are present in the documents is created called vocabulary. Each document is then represented as vector where each word in that vector is represented by the number of times it appears in that document. It is know as the term frequency. The drawback of BOW is that it does not consider the rareness of the word.\n",
    "2. **TF-IDF Vectorizer**: In this approach, each word is replace with the term frequencyinverse document freqeuncy. Some words may appear more frequently in all the documents and those words should be discounted so the inverse document frequency is used to make those words less valuable.\n",
    "I am going to use **TF-IDF Vectorizer** and **BagOfWords (BOW)** for both binary classification and for multi-class classification"
   ]
  },
  {
   "cell_type": "code",
   "execution_count": 149,
   "metadata": {},
   "outputs": [],
   "source": [
    "def vectorization(xtrain, xtest):\n",
    "    #TFIDF Vectorization\n",
    "    vect = TfidfVectorizer(analyzer='word')\n",
    "    xtrain_tfidf = vect.fit_transform(xtrain)\n",
    "    xtest_tfidf = vect.transform(xtest)\n",
    "    \n",
    "    #Count Vectorization\n",
    "    cvect = CountVectorizer()\n",
    "    xtrain_cv = cvect.fit_transform(xtrain)\n",
    "    xtest_cv = cvect.transform(xtest)\n",
    "    \n",
    "    return xtrain_tfidf, xtest_tfidf, xtrain_cv, xtest_cv"
   ]
  },
  {
   "cell_type": "code",
   "execution_count": 150,
   "metadata": {},
   "outputs": [],
   "source": [
    "#Fucntion train the models and predict the categories for unseen data.\n",
    "def classify(model, xtrain, ytrain, xtest, ytest, classes):\n",
    "    model.fit(xtrain, ytrain)\n",
    "    tpred = model.predict(xtrain)\n",
    "    pred = model.predict(xtest)\n",
    "    print(model,' Training accuracy: ',metrics.accuracy_score(tpred, ytrain),\n",
    "          ' Testing accuracy: ',metrics.accuracy_score(pred, ytest))\n",
    "    #print('Testing accuracy: ',metrics.accuracy_score(pred, ytest))\n",
    "    cm = metrics.confusion_matrix(pred, ytest)\n",
    "    if len(classes) == 2:\n",
    "        plt.subplots(figsize=(3,2))\n",
    "        plt.title(model)\n",
    "        sns.heatmap(cm, annot=True, fmt='.4g', xticklabels=[classes[0],classes[1]],\n",
    "            yticklabels=[classes[0],classes[1]], cmap='Blues')\n",
    "    else:\n",
    "        plt.subplots(figsize=(3,2))\n",
    "        plt.title(model)\n",
    "        sns.heatmap(cm, annot=True, fmt='.4g', xticklabels=[classes[0],classes[1],classes[2]],\n",
    "            yticklabels=[classes[0],classes[1],classes[2]], cmap='Blues',)"
   ]
  },
  {
   "cell_type": "code",
   "execution_count": 151,
   "metadata": {},
   "outputs": [],
   "source": [
    "#Using Lbael encoding to ecode the target variable i.e. the categories\n",
    "def encode(ytrain, ytest):\n",
    "    encoder = preprocessing.LabelEncoder()\n",
    "    ytrain = encoder.fit_transform(ytrain)\n",
    "    ytest = encoder.transform(ytest)\n",
    "    return ytrain, ytest, encoder.classes_"
   ]
  },
  {
   "cell_type": "markdown",
   "metadata": {},
   "source": [
    "## Task 2 - Binary Classification"
   ]
  },
  {
   "cell_type": "code",
   "execution_count": 152,
   "metadata": {},
   "outputs": [
    {
     "name": "stdout",
     "output_type": "stream",
     "text": [
      " Train shape:  (2912,)\n",
      " Test shape:  (728,)\n",
      " Train shape:  (2892,)\n",
      " Test shape:  (724,)\n",
      " Train shape:  (2894,)\n",
      " Test shape:  (724,)\n"
     ]
    }
   ],
   "source": [
    "xtrain1, xtest1, ytrain1 , ytest1 = model_selection.train_test_split(binary1['Document'], binary1['Category'], test_size = 0.2,\n",
    "                                                                    random_state=42)\n",
    "xtrain2, xtest2, ytrain2 , ytest2 = model_selection.train_test_split(binary2['Document'], binary2['Category'], test_size = 0.2,\n",
    "                                                                    random_state=42)\n",
    "xtrain3, xtest3, ytrain3 , ytest3 = model_selection.train_test_split(binary3['Document'], binary3['Category'], test_size = 0.2,\n",
    "                                                                    random_state=42)\n",
    "print(' Train shape: ',xtrain1.shape)\n",
    "print(' Test shape: ',xtest1.shape)\n",
    "print(' Train shape: ',xtrain2.shape)\n",
    "print(' Test shape: ',xtest2.shape)\n",
    "print(' Train shape: ',xtrain3.shape)\n",
    "print(' Test shape: ',xtest3.shape)"
   ]
  },
  {
   "cell_type": "code",
   "execution_count": 153,
   "metadata": {},
   "outputs": [],
   "source": [
    "#Vectorize all the three pairs using TfidfVectorizer and CountVectorizer\n",
    "#Pair 1\n",
    "xtrain_tfidf1, xtest_tfidf1, xtrain_cv1, xtest_cv1 = vectorization(xtrain1, xtest1) \n",
    "#Pair 2\n",
    "xtrain_tfidf2, xtest_tfidf2, xtrain_cv2, xtest_cv2 = vectorization(xtrain2, xtest2)\n",
    "#Pair 3\n",
    "xtrain_tfidf3, xtest_tfidf3, xtrain_cv3, xtest_cv3 = vectorization(xtrain3, xtest3)\n",
    "\n",
    "#Encode all the three pairs\n",
    "#Pair 1\n",
    "ytrain1, ytest1, classes1 = encode(ytrain1, ytest1)\n",
    "#Pair 2\n",
    "ytrain2, ytest2, classes2 = encode(ytrain2, ytest2)\n",
    "#Pair 3\n",
    "ytrain3, ytest3, classes3 = encode(ytrain3, ytest3)"
   ]
  },
  {
   "cell_type": "markdown",
   "metadata": {},
   "source": [
    "### Pair 1: (Books, Sport)"
   ]
  },
  {
   "cell_type": "markdown",
   "metadata": {},
   "source": [
    "###### Using TfidfVectorizer"
   ]
  },
  {
   "cell_type": "code",
   "execution_count": 154,
   "metadata": {},
   "outputs": [
    {
     "name": "stdout",
     "output_type": "stream",
     "text": [
      "LogisticRegression()  Training accuracy:  0.9945054945054945  Testing accuracy:  0.9807692307692307\n",
      "MultinomialNB()  Training accuracy:  0.9945054945054945  Testing accuracy:  0.9739010989010989\n"
     ]
    },
    {
     "data": {
      "image/png": "[encoded data removed]",
      "text/plain": [
       "<Figure size 216x144 with 2 Axes>"
      ]
     },
     "metadata": {
      "needs_background": "light"
     },
     "output_type": "display_data"
    },
    {
     "data": {
      "image/png": "[encoded data removed]",
      "text/plain": [
       "<Figure size 216x144 with 2 Axes>"
      ]
     },
     "metadata": {
      "needs_background": "light"
     },
     "output_type": "display_data"
    }
   ],
   "source": [
    "#Logistic Regression\n",
    "lr = LogisticRegression()\n",
    "#Naive Bayes\n",
    "nb = MultinomialNB()\n",
    "for model in [lr,nb]:\n",
    "    classify(model, xtrain_tfidf1, ytrain1, xtest_tfidf1, ytest1, classes1)"
   ]
  },
  {
   "cell_type": "markdown",
   "metadata": {},
   "source": [
    "###### Using CountVectorizer"
   ]
  },
  {
   "cell_type": "code",
   "execution_count": 155,
   "metadata": {},
   "outputs": [
    {
     "name": "stdout",
     "output_type": "stream",
     "text": [
      "LogisticRegression()  Training accuracy:  1.0  Testing accuracy:  0.9821428571428571\n",
      "MultinomialNB()  Training accuracy:  0.9958791208791209  Testing accuracy:  0.9862637362637363\n"
     ]
    },
    {
     "data": {
      "image/png": "[encoded data removed]",
      "text/plain": [
       "<Figure size 216x144 with 2 Axes>"
      ]
     },
     "metadata": {
      "needs_background": "light"
     },
     "output_type": "display_data"
    },
    {
     "data": {
      "image/png": "[encoded data removed]",
      "text/plain": [
       "<Figure size 216x144 with 2 Axes>"
      ]
     },
     "metadata": {
      "needs_background": "light"
     },
     "output_type": "display_data"
    }
   ],
   "source": [
    "for model in [lr,nb]:\n",
    "    classify(model, xtrain_cv1, ytrain1, xtest_cv1, ytest1, classes1)"
   ]
  },
  {
   "cell_type": "markdown",
   "metadata": {},
   "source": [
    "From the above results we can see that Naive Bayes is performing well for this pair of category and there are no such large discrepancies in the results obtained from using TfidfVectorizer and CountVectorizer. From confusion matrix above we can see that Naive Bayes incorrectly classified 16 documents as 'Books' using TfidfVectorizer and 6 using CountVectorizer which is better. So CountVectorizer performed better for the first pair."
   ]
  },
  {
   "cell_type": "markdown",
   "metadata": {},
   "source": [
    "### Pair 2: (Music, Sport)"
   ]
  },
  {
   "cell_type": "markdown",
   "metadata": {},
   "source": [
    "###### Using TfidfVectorizer"
   ]
  },
  {
   "cell_type": "code",
   "execution_count": 156,
   "metadata": {},
   "outputs": [
    {
     "name": "stdout",
     "output_type": "stream",
     "text": [
      "LogisticRegression()  Training accuracy:  0.995850622406639  Testing accuracy:  0.9682320441988951\n",
      "MultinomialNB()  Training accuracy:  0.9986168741355463  Testing accuracy:  0.9737569060773481\n"
     ]
    },
    {
     "data": {
      "image/png": "[encoded data removed]",
      "text/plain": [
       "<Figure size 216x144 with 2 Axes>"
      ]
     },
     "metadata": {
      "needs_background": "light"
     },
     "output_type": "display_data"
    },
    {
     "data": {
      "image/png": "[encoded data removed]",
      "text/plain": [
       "<Figure size 216x144 with 2 Axes>"
      ]
     },
     "metadata": {
      "needs_background": "light"
     },
     "output_type": "display_data"
    }
   ],
   "source": [
    "for model in [lr,nb]:\n",
    "    classify(model, xtrain_tfidf2, ytrain2, xtest_tfidf2, ytest2, classes2)"
   ]
  },
  {
   "cell_type": "markdown",
   "metadata": {},
   "source": [
    "###### Using CountVectorizer"
   ]
  },
  {
   "cell_type": "code",
   "execution_count": 157,
   "metadata": {},
   "outputs": [
    {
     "name": "stdout",
     "output_type": "stream",
     "text": [
      "LogisticRegression()  Training accuracy:  1.0  Testing accuracy:  0.9668508287292817\n",
      "MultinomialNB()  Training accuracy:  0.9996542185338866  Testing accuracy:  0.9765193370165746\n"
     ]
    },
    {
     "data": {
      "image/png": "[encoded data removed]",
      "text/plain": [
       "<Figure size 216x144 with 2 Axes>"
      ]
     },
     "metadata": {
      "needs_background": "light"
     },
     "output_type": "display_data"
    },
    {
     "data": {
      "image/png": "[encoded data removed]",
      "text/plain": [
       "<Figure size 216x144 with 2 Axes>"
      ]
     },
     "metadata": {
      "needs_background": "light"
     },
     "output_type": "display_data"
    }
   ],
   "source": [
    "for model in [lr,nb]:\n",
    "    classify(model, xtrain_cv2, ytrain2, xtest_cv2, ytest2, classes2)"
   ]
  },
  {
   "cell_type": "markdown",
   "metadata": {},
   "source": [
    "From the above results we can see that Naive Bayes is performing well for this pair of category and there are no such large discrepancies in the results obtained from using TfidfVectorizer and CountVectorizer. From confusion matrix above we can see that Naive Bayes incorrectly classified 12 documents as 'Music' using TfidfVectorizer and 9 using CountVectorizer which is again better. So CountVectorizer performed better here."
   ]
  },
  {
   "cell_type": "markdown",
   "metadata": {},
   "source": [
    "### Pair 3: (Books, Music)"
   ]
  },
  {
   "cell_type": "markdown",
   "metadata": {},
   "source": [
    "###### Using TfidfVectorizer"
   ]
  },
  {
   "cell_type": "code",
   "execution_count": 158,
   "metadata": {},
   "outputs": [
    {
     "name": "stdout",
     "output_type": "stream",
     "text": [
      "LogisticRegression()  Training accuracy:  0.9854872149274361  Testing accuracy:  0.9447513812154696\n",
      "MultinomialNB()  Training accuracy:  0.9906703524533518  Testing accuracy:  0.9267955801104972\n"
     ]
    },
    {
     "data": {
      "image/png": "[encoded data removed]",
      "text/plain": [
       "<Figure size 216x144 with 2 Axes>"
      ]
     },
     "metadata": {
      "needs_background": "light"
     },
     "output_type": "display_data"
    },
    {
     "data": {
      "image/png": "[encoded data removed]",
      "text/plain": [
       "<Figure size 216x144 with 2 Axes>"
      ]
     },
     "metadata": {
      "needs_background": "light"
     },
     "output_type": "display_data"
    }
   ],
   "source": [
    "for model in [lr,nb]:\n",
    "    classify(model, xtrain_tfidf3, ytrain3, xtest_tfidf3, ytest3, classes3)"
   ]
  },
  {
   "cell_type": "markdown",
   "metadata": {},
   "source": [
    "###### Using CountVectorizer"
   ]
  },
  {
   "cell_type": "code",
   "execution_count": 159,
   "metadata": {},
   "outputs": [
    {
     "name": "stdout",
     "output_type": "stream",
     "text": [
      "LogisticRegression()  Training accuracy:  0.9996544574982723  Testing accuracy:  0.9392265193370166\n",
      "MultinomialNB()  Training accuracy:  0.9920525224602627  Testing accuracy:  0.93646408839779\n"
     ]
    },
    {
     "data": {
      "image/png": "[encoded data removed]",
      "text/plain": [
       "<Figure size 216x144 with 2 Axes>"
      ]
     },
     "metadata": {
      "needs_background": "light"
     },
     "output_type": "display_data"
    },
    {
     "data": {
      "image/png": "[encoded data removed]",
      "text/plain": [
       "<Figure size 216x144 with 2 Axes>"
      ]
     },
     "metadata": {
      "needs_background": "light"
     },
     "output_type": "display_data"
    }
   ],
   "source": [
    "for model in [lr,nb]:\n",
    "    classify(model, xtrain_cv3, ytrain3, xtest_cv3, ytest3, classes3)"
   ]
  },
  {
   "cell_type": "markdown",
   "metadata": {},
   "source": [
    "From the above results we can see that Logistic Regression is performing well for this pair of category and there are no such large discrepancies in the results obtained from using TfidfVectorizer and CountVectorizer. From confusion matrix above we can see that Logistic Regression incorrectly classified 19 documents as 'Music' using TfidfVectorizer and 23 documents using CountVectorizer. So for this pair, TfidfVectorizer is giving better results."
   ]
  },
  {
   "cell_type": "markdown",
   "metadata": {},
   "source": [
    "#### Comparison of all the unique pairs\n",
    "<br>Overall for Binary Classification, the best performance was given by Naive Bayes model for the pair **(Books, Sports)** with an testing accuracy of **98.6 %**. As the data is balance accuracy is the appropriate evaluation metric to use. It also gave the lowest misclassification rate of **0.02**. The lowest performance by Naive Bayes model was given for the pair **(Music, Books)** with a misclassification rate of **0.08** using TfidfVectorizer. There were no such large difference between the performance of all the models. All the models are giving testing accuracy which is less than and similar to the training accuracy so there is no issue of overfitting. To avoid peeking, the entire data set is divided into a training and testing split of 80% and 20% respectively. So, considering all this I can see that the models are generalizing well on unseen test data."
   ]
  },
  {
   "cell_type": "markdown",
   "metadata": {},
   "source": [
    "## Task 3 - Multiclass classification"
   ]
  },
  {
   "cell_type": "code",
   "execution_count": 160,
   "metadata": {},
   "outputs": [
    {
     "name": "stdout",
     "output_type": "stream",
     "text": [
      " Train shape:  (4349,)\n",
      " Test shape:  (1088,)\n"
     ]
    }
   ],
   "source": [
    "xtrain, xtest, ytrain , ytest = model_selection.train_test_split(final['Document'],final['Category'], test_size = 0.2, \n",
    "                                                                 random_state=42)\n",
    "print(' Train shape: ',xtrain.shape)\n",
    "print(' Test shape: ',xtest.shape)"
   ]
  },
  {
   "cell_type": "code",
   "execution_count": 161,
   "metadata": {},
   "outputs": [],
   "source": [
    "#Vectorize all the three pairs using both TfidfVectorizer and CountVectorizer\n",
    "xtrain_tfidf, xtest_tfidf, xtrain_cv, xtest_cv = vectorization(xtrain, xtest)\n",
    "\n",
    "#Encode all the three pairs\n",
    "ytrain, ytest, classes = encode(ytrain, ytest)"
   ]
  },
  {
   "cell_type": "markdown",
   "metadata": {},
   "source": [
    "###### Using TfidfVectorizer"
   ]
  },
  {
   "cell_type": "code",
   "execution_count": 166,
   "metadata": {},
   "outputs": [
    {
     "name": "stdout",
     "output_type": "stream",
     "text": [
      "MultinomialNB()  Training accuracy:  0.9891929179121637  Testing accuracy:  0.9310661764705882\n",
      "SGDClassifier()  Training accuracy:  0.9993101862497126  Testing accuracy:  0.9292279411764706\n"
     ]
    },
    {
     "data": {
      "image/png": "[encoded data removed]",
      "text/plain": [
       "<Figure size 216x144 with 2 Axes>"
      ]
     },
     "metadata": {
      "needs_background": "light"
     },
     "output_type": "display_data"
    },
    {
     "data": {
      "image/png": "[encoded data removed]",
      "text/plain": [
       "<Figure size 216x144 with 2 Axes>"
      ]
     },
     "metadata": {
      "needs_background": "light"
     },
     "output_type": "display_data"
    }
   ],
   "source": [
    "nb = MultinomialNB()\n",
    "sgd = SGDClassifier(alpha=0.0001)\n",
    "\n",
    "for model in [nb,sgd]:\n",
    "    classify(model, xtrain_tfidf, ytrain, xtest_tfidf, ytest, classes)"
   ]
  },
  {
   "cell_type": "markdown",
   "metadata": {},
   "source": [
    "#### Using CountVectorizer"
   ]
  },
  {
   "cell_type": "code",
   "execution_count": 170,
   "metadata": {},
   "outputs": [
    {
     "name": "stdout",
     "output_type": "stream",
     "text": [
      "MultinomialNB()  Training accuracy:  0.9928719245803633  Testing accuracy:  0.9393382352941176\n",
      "SGDClassifier()  Training accuracy:  1.0  Testing accuracy:  0.9163602941176471\n"
     ]
    },
    {
     "data": {
      "image/png": "[encoded data removed]",
      "text/plain": [
       "<Figure size 216x144 with 2 Axes>"
      ]
     },
     "metadata": {
      "needs_background": "light"
     },
     "output_type": "display_data"
    },
    {
     "data": {
      "image/png": "[encoded data removed]",
      "text/plain": [
       "<Figure size 216x144 with 2 Axes>"
      ]
     },
     "metadata": {
      "needs_background": "light"
     },
     "output_type": "display_data"
    }
   ],
   "source": [
    "for model in [nb,sgd]:\n",
    "    classify(model, xtrain_cv, ytrain, xtest_cv, ytest, classes)"
   ]
  },
  {
   "cell_type": "markdown",
   "metadata": {},
   "source": [
    "From the above results we can see that for multiclass classification also the Naive Bayes model performed well. The best results were achieved by using CountVectorizer. The model actually failed to correctly classify 30 documents as 'Music' using CountVectorizer but using TfidfVectorizer it only failed to classify 24 documents as 'Music'. Again there were no such large discrepancies in the results seen for multiclass classfication. The learning rate that I have used for the SGDClassifier is 0.0001. It can be tuned further so the classifier might then perform better than the Naive Bayes. "
   ]
  },
  {
   "cell_type": "markdown",
   "metadata": {},
   "source": [
    "## Conclusion:\n",
    "<br> The data was successfully collected from the provided link using BeautifulSoup and stored in a proper format in a dataframe. Required cleaning was performed during the data collection part like collecting and storing only the name of the category and removing string \"Category: \" from it. Once the data was collected, The title and snippet were combined into single corupus of documents. All the required data-preprocessing steps are taken and the data is cleaned before giving it to the models. For the binary classification, dataframes are created for each pair from the orginial dataframe. Appropriate training/testing splits are done to avoid data peeking and then two types of Vectorizers are used to convert the words into numerical format in order to feed the data to the models. Label encoding is applied on the target variables. Logistic Regression and Naive Bayes models are used for binary classification tasks and SGDClassifier for multiclass classification. Finally the models are trained their performance is evaluated on unseen test data."
   ]
  },
  {
   "cell_type": "markdown",
   "metadata": {},
   "source": [
    "## Future Scope:\n",
    "<br> We can use Neural Networks to classifiy the documents when there is huge amount of the data available for training.\n",
    "<br> Models like LSTM, CNN and BILSTM are proven to work best for text classification tasks.\n",
    "<br> Hyperparameter tuning can be done using the GridSearchCV and RandomizedSearchCV to get the best combination of parameters suited for the given dataset.\n",
    "<br> Vectorization methods can be improved by using pre-trained vectorizers like Word2Vec and GLOVE."
   ]
  }
 ],
 "metadata": {
  "kernelspec": {
   "display_name": "Python 3",
   "language": "python",
   "name": "python3"
  },
  "language_info": {
   "codemirror_mode": {
    "name": "ipython",
    "version": 3
   },
   "file_extension": ".py",
   "mimetype": "text/x-python",
   "name": "python",
   "nbconvert_exporter": "python",
   "pygments_lexer": "ipython3",
   "version": "3.8.3"
  }
 },
 "nbformat": 4,
 "nbformat_minor": 4
}
